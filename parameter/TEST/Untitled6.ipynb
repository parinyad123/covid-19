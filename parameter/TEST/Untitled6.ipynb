{
 "cells": [
  {
   "cell_type": "code",
   "execution_count": 1,
   "metadata": {},
   "outputs": [],
   "source": [
    "import pandas as pd\n",
    "path = 'DataForThai.csv'\n",
    "df = pd.read_csv(path)"
   ]
  },
  {
   "cell_type": "code",
   "execution_count": 2,
   "metadata": {},
   "outputs": [
    {
     "data": {
      "text/html": [
       "<div>\n",
       "<style scoped>\n",
       "    .dataframe tbody tr th:only-of-type {\n",
       "        vertical-align: middle;\n",
       "    }\n",
       "\n",
       "    .dataframe tbody tr th {\n",
       "        vertical-align: top;\n",
       "    }\n",
       "\n",
       "    .dataframe thead th {\n",
       "        text-align: right;\n",
       "    }\n",
       "</style>\n",
       "<table border=\"1\" class=\"dataframe\">\n",
       "  <thead>\n",
       "    <tr style=\"text-align: right;\">\n",
       "      <th></th>\n",
       "      <th>Date</th>\n",
       "      <th>Confirmed</th>\n",
       "      <th>Deaths</th>\n",
       "      <th>Recovered</th>\n",
       "      <th>daily_new_patient</th>\n",
       "      <th>daily_new_patient_pct</th>\n",
       "    </tr>\n",
       "  </thead>\n",
       "  <tbody>\n",
       "    <tr>\n",
       "      <th>0</th>\n",
       "      <td>2020-01-22</td>\n",
       "      <td>2.0</td>\n",
       "      <td>0.0</td>\n",
       "      <td>0</td>\n",
       "      <td>NaN</td>\n",
       "      <td>NaN</td>\n",
       "    </tr>\n",
       "    <tr>\n",
       "      <th>1</th>\n",
       "      <td>2020-01-23</td>\n",
       "      <td>3.0</td>\n",
       "      <td>0.0</td>\n",
       "      <td>0</td>\n",
       "      <td>1.0</td>\n",
       "      <td>0.500000</td>\n",
       "    </tr>\n",
       "    <tr>\n",
       "      <th>2</th>\n",
       "      <td>2020-01-24</td>\n",
       "      <td>5.0</td>\n",
       "      <td>0.0</td>\n",
       "      <td>0</td>\n",
       "      <td>2.0</td>\n",
       "      <td>0.666667</td>\n",
       "    </tr>\n",
       "    <tr>\n",
       "      <th>3</th>\n",
       "      <td>2020-01-25</td>\n",
       "      <td>7.0</td>\n",
       "      <td>0.0</td>\n",
       "      <td>0</td>\n",
       "      <td>2.0</td>\n",
       "      <td>0.400000</td>\n",
       "    </tr>\n",
       "    <tr>\n",
       "      <th>4</th>\n",
       "      <td>2020-01-26</td>\n",
       "      <td>8.0</td>\n",
       "      <td>0.0</td>\n",
       "      <td>2</td>\n",
       "      <td>1.0</td>\n",
       "      <td>0.142857</td>\n",
       "    </tr>\n",
       "    <tr>\n",
       "      <th>...</th>\n",
       "      <td>...</td>\n",
       "      <td>...</td>\n",
       "      <td>...</td>\n",
       "      <td>...</td>\n",
       "      <td>...</td>\n",
       "      <td>...</td>\n",
       "    </tr>\n",
       "    <tr>\n",
       "      <th>85</th>\n",
       "      <td>2020-04-16</td>\n",
       "      <td>2672.0</td>\n",
       "      <td>46.0</td>\n",
       "      <td>1593</td>\n",
       "      <td>29.0</td>\n",
       "      <td>0.010972</td>\n",
       "    </tr>\n",
       "    <tr>\n",
       "      <th>86</th>\n",
       "      <td>2020-04-17</td>\n",
       "      <td>2700.0</td>\n",
       "      <td>47.0</td>\n",
       "      <td>1689</td>\n",
       "      <td>28.0</td>\n",
       "      <td>0.010479</td>\n",
       "    </tr>\n",
       "    <tr>\n",
       "      <th>87</th>\n",
       "      <td>2020-04-18</td>\n",
       "      <td>2733.0</td>\n",
       "      <td>47.0</td>\n",
       "      <td>1787</td>\n",
       "      <td>33.0</td>\n",
       "      <td>0.012222</td>\n",
       "    </tr>\n",
       "    <tr>\n",
       "      <th>88</th>\n",
       "      <td>2020-04-19</td>\n",
       "      <td>2765.0</td>\n",
       "      <td>47.0</td>\n",
       "      <td>1928</td>\n",
       "      <td>32.0</td>\n",
       "      <td>0.011709</td>\n",
       "    </tr>\n",
       "    <tr>\n",
       "      <th>89</th>\n",
       "      <td>2020-04-20</td>\n",
       "      <td>2792.0</td>\n",
       "      <td>47.0</td>\n",
       "      <td>1999</td>\n",
       "      <td>27.0</td>\n",
       "      <td>0.009765</td>\n",
       "    </tr>\n",
       "  </tbody>\n",
       "</table>\n",
       "<p>90 rows × 6 columns</p>\n",
       "</div>"
      ],
      "text/plain": [
       "          Date  Confirmed  Deaths  Recovered  daily_new_patient  \\\n",
       "0   2020-01-22        2.0     0.0          0                NaN   \n",
       "1   2020-01-23        3.0     0.0          0                1.0   \n",
       "2   2020-01-24        5.0     0.0          0                2.0   \n",
       "3   2020-01-25        7.0     0.0          0                2.0   \n",
       "4   2020-01-26        8.0     0.0          2                1.0   \n",
       "..         ...        ...     ...        ...                ...   \n",
       "85  2020-04-16     2672.0    46.0       1593               29.0   \n",
       "86  2020-04-17     2700.0    47.0       1689               28.0   \n",
       "87  2020-04-18     2733.0    47.0       1787               33.0   \n",
       "88  2020-04-19     2765.0    47.0       1928               32.0   \n",
       "89  2020-04-20     2792.0    47.0       1999               27.0   \n",
       "\n",
       "    daily_new_patient_pct  \n",
       "0                     NaN  \n",
       "1                0.500000  \n",
       "2                0.666667  \n",
       "3                0.400000  \n",
       "4                0.142857  \n",
       "..                    ...  \n",
       "85               0.010972  \n",
       "86               0.010479  \n",
       "87               0.012222  \n",
       "88               0.011709  \n",
       "89               0.009765  \n",
       "\n",
       "[90 rows x 6 columns]"
      ]
     },
     "execution_count": 2,
     "metadata": {},
     "output_type": "execute_result"
    }
   ],
   "source": [
    "df"
   ]
  },
  {
   "cell_type": "code",
   "execution_count": null,
   "metadata": {},
   "outputs": [],
   "source": [
    "df_thai"
   ]
  },
  {
   "cell_type": "code",
   "execution_count": 15,
   "metadata": {},
   "outputs": [
    {
     "data": {
      "text/plain": [
       "[<matplotlib.lines.Line2D at 0x1e28ec84e88>]"
      ]
     },
     "execution_count": 15,
     "metadata": {},
     "output_type": "execute_result"
    },
    {
     "data": {
      "image/png": "[encoded data removed]",
      "text/plain": [
       "<Figure size 432x288 with 1 Axes>"
      ]
     },
     "metadata": {
      "needs_background": "light"
     },
     "output_type": "display_data"
    }
   ],
   "source": [
    "import matplotlib.pyplot as plt\n",
    "plt.plot(df['Confirmed'])\n",
    "plt.plot(df['daily_new_patient'])\n",
    "\n"
   ]
  },
  {
   "cell_type": "code",
   "execution_count": 55,
   "metadata": {},
   "outputs": [
    {
     "data": {
      "text/plain": [
       "[<matplotlib.lines.Line2D at 0x1e2903ee788>]"
      ]
     },
     "execution_count": 55,
     "metadata": {},
     "output_type": "execute_result"
    },
    {
     "data": {
      "image/png": "[encoded data removed]",
      "text/plain": [
       "<Figure size 432x288 with 1 Axes>"
      ]
     },
     "metadata": {
      "needs_background": "light"
     },
     "output_type": "display_data"
    }
   ],
   "source": [
    "plt.plot(df['daily_new_patient'],'ro')\n",
    "plt.plot(df['daily_new_patient'],)"
   ]
  },
  {
   "cell_type": "code",
   "execution_count": 18,
   "metadata": {},
   "outputs": [
    {
     "data": {
      "text/html": [
       "<div>\n",
       "<style scoped>\n",
       "    .dataframe tbody tr th:only-of-type {\n",
       "        vertical-align: middle;\n",
       "    }\n",
       "\n",
       "    .dataframe tbody tr th {\n",
       "        vertical-align: top;\n",
       "    }\n",
       "\n",
       "    .dataframe thead th {\n",
       "        text-align: right;\n",
       "    }\n",
       "</style>\n",
       "<table border=\"1\" class=\"dataframe\">\n",
       "  <thead>\n",
       "    <tr style=\"text-align: right;\">\n",
       "      <th></th>\n",
       "      <th>Date</th>\n",
       "      <th>Confirmed</th>\n",
       "      <th>Deaths</th>\n",
       "      <th>Recovered</th>\n",
       "      <th>daily_new_patient</th>\n",
       "      <th>daily_new_patient_pct</th>\n",
       "    </tr>\n",
       "  </thead>\n",
       "  <tbody>\n",
       "    <tr>\n",
       "      <th>0</th>\n",
       "      <td>2020-01-22</td>\n",
       "      <td>2.0</td>\n",
       "      <td>0.0</td>\n",
       "      <td>0</td>\n",
       "      <td>NaN</td>\n",
       "      <td>NaN</td>\n",
       "    </tr>\n",
       "    <tr>\n",
       "      <th>1</th>\n",
       "      <td>2020-01-23</td>\n",
       "      <td>3.0</td>\n",
       "      <td>0.0</td>\n",
       "      <td>0</td>\n",
       "      <td>1.0</td>\n",
       "      <td>0.500000</td>\n",
       "    </tr>\n",
       "    <tr>\n",
       "      <th>2</th>\n",
       "      <td>2020-01-24</td>\n",
       "      <td>5.0</td>\n",
       "      <td>0.0</td>\n",
       "      <td>0</td>\n",
       "      <td>2.0</td>\n",
       "      <td>0.666667</td>\n",
       "    </tr>\n",
       "    <tr>\n",
       "      <th>3</th>\n",
       "      <td>2020-01-25</td>\n",
       "      <td>7.0</td>\n",
       "      <td>0.0</td>\n",
       "      <td>0</td>\n",
       "      <td>2.0</td>\n",
       "      <td>0.400000</td>\n",
       "    </tr>\n",
       "    <tr>\n",
       "      <th>4</th>\n",
       "      <td>2020-01-26</td>\n",
       "      <td>8.0</td>\n",
       "      <td>0.0</td>\n",
       "      <td>2</td>\n",
       "      <td>1.0</td>\n",
       "      <td>0.142857</td>\n",
       "    </tr>\n",
       "    <tr>\n",
       "      <th>...</th>\n",
       "      <td>...</td>\n",
       "      <td>...</td>\n",
       "      <td>...</td>\n",
       "      <td>...</td>\n",
       "      <td>...</td>\n",
       "      <td>...</td>\n",
       "    </tr>\n",
       "    <tr>\n",
       "      <th>85</th>\n",
       "      <td>2020-04-16</td>\n",
       "      <td>2672.0</td>\n",
       "      <td>46.0</td>\n",
       "      <td>1593</td>\n",
       "      <td>29.0</td>\n",
       "      <td>0.010972</td>\n",
       "    </tr>\n",
       "    <tr>\n",
       "      <th>86</th>\n",
       "      <td>2020-04-17</td>\n",
       "      <td>2700.0</td>\n",
       "      <td>47.0</td>\n",
       "      <td>1689</td>\n",
       "      <td>28.0</td>\n",
       "      <td>0.010479</td>\n",
       "    </tr>\n",
       "    <tr>\n",
       "      <th>87</th>\n",
       "      <td>2020-04-18</td>\n",
       "      <td>2733.0</td>\n",
       "      <td>47.0</td>\n",
       "      <td>1787</td>\n",
       "      <td>33.0</td>\n",
       "      <td>0.012222</td>\n",
       "    </tr>\n",
       "    <tr>\n",
       "      <th>88</th>\n",
       "      <td>2020-04-19</td>\n",
       "      <td>2765.0</td>\n",
       "      <td>47.0</td>\n",
       "      <td>1928</td>\n",
       "      <td>32.0</td>\n",
       "      <td>0.011709</td>\n",
       "    </tr>\n",
       "    <tr>\n",
       "      <th>89</th>\n",
       "      <td>2020-04-20</td>\n",
       "      <td>2792.0</td>\n",
       "      <td>47.0</td>\n",
       "      <td>1999</td>\n",
       "      <td>27.0</td>\n",
       "      <td>0.009765</td>\n",
       "    </tr>\n",
       "  </tbody>\n",
       "</table>\n",
       "<p>90 rows × 6 columns</p>\n",
       "</div>"
      ],
      "text/plain": [
       "          Date  Confirmed  Deaths  Recovered  daily_new_patient  \\\n",
       "0   2020-01-22        2.0     0.0          0                NaN   \n",
       "1   2020-01-23        3.0     0.0          0                1.0   \n",
       "2   2020-01-24        5.0     0.0          0                2.0   \n",
       "3   2020-01-25        7.0     0.0          0                2.0   \n",
       "4   2020-01-26        8.0     0.0          2                1.0   \n",
       "..         ...        ...     ...        ...                ...   \n",
       "85  2020-04-16     2672.0    46.0       1593               29.0   \n",
       "86  2020-04-17     2700.0    47.0       1689               28.0   \n",
       "87  2020-04-18     2733.0    47.0       1787               33.0   \n",
       "88  2020-04-19     2765.0    47.0       1928               32.0   \n",
       "89  2020-04-20     2792.0    47.0       1999               27.0   \n",
       "\n",
       "    daily_new_patient_pct  \n",
       "0                     NaN  \n",
       "1                0.500000  \n",
       "2                0.666667  \n",
       "3                0.400000  \n",
       "4                0.142857  \n",
       "..                    ...  \n",
       "85               0.010972  \n",
       "86               0.010479  \n",
       "87               0.012222  \n",
       "88               0.011709  \n",
       "89               0.009765  \n",
       "\n",
       "[90 rows x 6 columns]"
      ]
     },
     "execution_count": 18,
     "metadata": {},
     "output_type": "execute_result"
    }
   ],
   "source": [
    "df_thai = df.copy()\n",
    "df_thai"
   ]
  },
  {
   "cell_type": "code",
   "execution_count": 21,
   "metadata": {},
   "outputs": [],
   "source": [
    "df_thai = df_thai.fillna(0)"
   ]
  },
  {
   "cell_type": "code",
   "execution_count": 23,
   "metadata": {},
   "outputs": [
    {
     "data": {
      "text/html": [
       "<div>\n",
       "<style scoped>\n",
       "    .dataframe tbody tr th:only-of-type {\n",
       "        vertical-align: middle;\n",
       "    }\n",
       "\n",
       "    .dataframe tbody tr th {\n",
       "        vertical-align: top;\n",
       "    }\n",
       "\n",
       "    .dataframe thead th {\n",
       "        text-align: right;\n",
       "    }\n",
       "</style>\n",
       "<table border=\"1\" class=\"dataframe\">\n",
       "  <thead>\n",
       "    <tr style=\"text-align: right;\">\n",
       "      <th></th>\n",
       "      <th>Date</th>\n",
       "      <th>Confirmed</th>\n",
       "      <th>Deaths</th>\n",
       "      <th>Recovered</th>\n",
       "      <th>daily_new_patient</th>\n",
       "      <th>daily_new_patient_pct</th>\n",
       "    </tr>\n",
       "  </thead>\n",
       "  <tbody>\n",
       "    <tr>\n",
       "      <th>0</th>\n",
       "      <td>2020-01-22</td>\n",
       "      <td>2.0</td>\n",
       "      <td>0.0</td>\n",
       "      <td>0</td>\n",
       "      <td>0.0</td>\n",
       "      <td>0.000000</td>\n",
       "    </tr>\n",
       "    <tr>\n",
       "      <th>1</th>\n",
       "      <td>2020-01-23</td>\n",
       "      <td>3.0</td>\n",
       "      <td>0.0</td>\n",
       "      <td>0</td>\n",
       "      <td>1.0</td>\n",
       "      <td>0.500000</td>\n",
       "    </tr>\n",
       "    <tr>\n",
       "      <th>2</th>\n",
       "      <td>2020-01-24</td>\n",
       "      <td>5.0</td>\n",
       "      <td>0.0</td>\n",
       "      <td>0</td>\n",
       "      <td>2.0</td>\n",
       "      <td>0.666667</td>\n",
       "    </tr>\n",
       "    <tr>\n",
       "      <th>3</th>\n",
       "      <td>2020-01-25</td>\n",
       "      <td>7.0</td>\n",
       "      <td>0.0</td>\n",
       "      <td>0</td>\n",
       "      <td>2.0</td>\n",
       "      <td>0.400000</td>\n",
       "    </tr>\n",
       "    <tr>\n",
       "      <th>4</th>\n",
       "      <td>2020-01-26</td>\n",
       "      <td>8.0</td>\n",
       "      <td>0.0</td>\n",
       "      <td>2</td>\n",
       "      <td>1.0</td>\n",
       "      <td>0.142857</td>\n",
       "    </tr>\n",
       "  </tbody>\n",
       "</table>\n",
       "</div>"
      ],
      "text/plain": [
       "         Date  Confirmed  Deaths  Recovered  daily_new_patient  \\\n",
       "0  2020-01-22        2.0     0.0          0                0.0   \n",
       "1  2020-01-23        3.0     0.0          0                1.0   \n",
       "2  2020-01-24        5.0     0.0          0                2.0   \n",
       "3  2020-01-25        7.0     0.0          0                2.0   \n",
       "4  2020-01-26        8.0     0.0          2                1.0   \n",
       "\n",
       "   daily_new_patient_pct  \n",
       "0               0.000000  \n",
       "1               0.500000  \n",
       "2               0.666667  \n",
       "3               0.400000  \n",
       "4               0.142857  "
      ]
     },
     "execution_count": 23,
     "metadata": {},
     "output_type": "execute_result"
    }
   ],
   "source": [
    "df_thai.head()"
   ]
  },
  {
   "cell_type": "code",
   "execution_count": 31,
   "metadata": {},
   "outputs": [
    {
     "data": {
      "text/plain": [
       "array([  0.,   1.,   2.,   2.,   1.,   0.,   6.,   0.,   0.,   5.,   0.,\n",
       "         0.,   0.,   6.,   0.,   0.,   0.,   7.,   0.,   0.,   1.,   0.,\n",
       "         0.,   0.,   0.,   1.,   1.,   0.,   0.,   0.,   0.,   0.,   0.,\n",
       "         0.,   2.,   3.,   0.,   1.,   1.,   0.,   1.,   0.,   0.,   4.,\n",
       "         1.,   2.,   0.,   0.,   3.,   6.,  11.,   5.,   7.,  32.,  33.,\n",
       "        30.,  35.,  60.,  50.,  89., 188., 122., 106., 107., 111.,  91.,\n",
       "       109., 143., 136., 127., 120., 104., 103.,  89., 102.,  51.,  38.,\n",
       "       111.,  54.,  50.,  45.,  33.,  28.,  34.,  30.,  29.,  28.,  33.,\n",
       "        32.,  27.])"
      ]
     },
     "execution_count": 31,
     "metadata": {},
     "output_type": "execute_result"
    }
   ],
   "source": [
    "import numpy as np\n",
    "\n",
    "ydata = [i for i in df_thai.daily_new_patient]\n",
    "ydata = np.array(ydata, dtype=float)\n",
    "ydata\n",
    "# xdata = country_df.day_count\n",
    "# ydata = np.array(ydata, dtype=float)\n",
    "# xdata = np.array(xdata, dtype=float)"
   ]
  },
  {
   "cell_type": "code",
   "execution_count": 32,
   "metadata": {},
   "outputs": [
    {
     "data": {
      "text/plain": [
       "array([ 0,  1,  2,  3,  4,  5,  6,  7,  8,  9, 10, 11, 12, 13, 14, 15, 16,\n",
       "       17, 18, 19, 20, 21, 22, 23, 24, 25, 26, 27, 28, 29, 30, 31, 32, 33,\n",
       "       34, 35, 36, 37, 38, 39, 40, 41, 42, 43, 44, 45, 46, 47, 48, 49, 50,\n",
       "       51, 52, 53, 54, 55, 56, 57, 58, 59, 60, 61, 62, 63, 64, 65, 66, 67,\n",
       "       68, 69, 70, 71, 72, 73, 74, 75, 76, 77, 78, 79, 80, 81, 82, 83, 84,\n",
       "       85, 86, 87, 88, 89])"
      ]
     },
     "execution_count": 32,
     "metadata": {},
     "output_type": "execute_result"
    }
   ],
   "source": [
    "xdata = np.arange(len(ydata))\n",
    "xdata\n",
    "# xdata = np.array(xdata, dtype=float)"
   ]
  },
  {
   "cell_type": "code",
   "execution_count": 53,
   "metadata": {},
   "outputs": [
    {
     "data": {
      "text/plain": [
       "[<matplotlib.lines.Line2D at 0x1e290359748>]"
      ]
     },
     "execution_count": 53,
     "metadata": {},
     "output_type": "execute_result"
    },
    {
     "data": {
      "image/png": "[encoded data removed]",
      "text/plain": [
       "<Figure size 432x288 with 1 Axes>"
      ]
     },
     "metadata": {
      "needs_background": "light"
     },
     "output_type": "display_data"
    }
   ],
   "source": [
    "plt.plot(xdata, ydata,'bo')"
   ]
  },
  {
   "cell_type": "code",
   "execution_count": 49,
   "metadata": {},
   "outputs": [],
   "source": [
    "N = 69625582.0\n",
    "\n",
    "# initial condtion\n",
    "inf0 = ydata[0]\n",
    "sus0 = N - inf0\n",
    "rec0 = 0.0\n",
    "\n",
    "def sir_model(y, x, beta, gamma):\n",
    "    sus = -beta * y[0] * y[1] / N\n",
    "    rec = gamma * y[1]\n",
    "    inf = gamma*y[1]\n",
    "    return sus, inf, rec"
   ]
  },
  {
   "cell_type": "code",
   "execution_count": 50,
   "metadata": {},
   "outputs": [],
   "source": [
    "def fit_odeint(x, beta, gamma):\n",
    "#      return integrate.solve_ivp(sir_model, (sus0, inf0, rec0), x, args=(beta, gamma))[:,1]\n",
    "    return integrate.odeint(sir_model, (sus0, inf0, rec0), x, args=(beta, gamma))[:,1]"
   ]
  },
  {
   "cell_type": "code",
   "execution_count": 51,
   "metadata": {},
   "outputs": [],
   "source": [
    "from scipy import integrate, optimize\n",
    "\n",
    "popt, pcov = optimize.curve_fit(fit_odeint, xdata, ydata)\n",
    "fitted = fit_odeint(xdata, *popt)"
   ]
  },
  {
   "cell_type": "code",
   "execution_count": 52,
   "metadata": {},
   "outputs": [
    {
     "data": {
      "text/plain": [
       "array([1., 1.])"
      ]
     },
     "execution_count": 52,
     "metadata": {},
     "output_type": "execute_result"
    }
   ],
   "source": [
    "popt"
   ]
  },
  {
   "cell_type": "code",
   "execution_count": 44,
   "metadata": {},
   "outputs": [
    {
     "data": {
      "text/plain": [
       "array([[inf, inf],\n",
       "       [inf, inf]])"
      ]
     },
     "execution_count": 44,
     "metadata": {},
     "output_type": "execute_result"
    }
   ],
   "source": [
    "pcov"
   ]
  },
  {
   "cell_type": "code",
   "execution_count": 45,
   "metadata": {},
   "outputs": [
    {
     "ename": "NameError",
     "evalue": "name 'y' is not defined",
     "output_type": "error",
     "traceback": [
      "\u001b[1;31m---------------------------------------------------------------------------\u001b[0m",
      "\u001b[1;31mNameError\u001b[0m                                 Traceback (most recent call last)",
      "\u001b[1;32m<ipython-input-45-9063a9f0e032>\u001b[0m in \u001b[0;36m<module>\u001b[1;34m\u001b[0m\n\u001b[1;32m----> 1\u001b[1;33m \u001b[0my\u001b[0m\u001b[1;33m\u001b[0m\u001b[1;33m\u001b[0m\u001b[0m\n\u001b[0m",
      "\u001b[1;31mNameError\u001b[0m: name 'y' is not defined"
     ]
    }
   ],
   "source": [
    "y"
   ]
  },
  {
   "cell_type": "code",
   "execution_count": null,
   "metadata": {},
   "outputs": [],
   "source": []
  },
  {
   "cell_type": "code",
   "execution_count": null,
   "metadata": {},
   "outputs": [],
   "source": []
  },
  {
   "cell_type": "code",
   "execution_count": null,
   "metadata": {},
   "outputs": [],
   "source": []
  },
  {
   "cell_type": "code",
   "execution_count": 3,
   "metadata": {},
   "outputs": [],
   "source": [
    "from scipy.integrate import solve_ivp\n",
    "from scipy.optimize import minimize"
   ]
  },
  {
   "cell_type": "code",
   "execution_count": 4,
   "metadata": {},
   "outputs": [],
   "source": [
    "S_0 = 100000\n",
    "I_0 = 2\n",
    "R_0 = 10"
   ]
  },
  {
   "cell_type": "code",
   "execution_count": 5,
   "metadata": {},
   "outputs": [
    {
     "name": "stdout",
     "output_type": "stream",
     "text": [
      "0        0\n",
      "1        0\n",
      "2        0\n",
      "3        0\n",
      "4        2\n",
      "      ... \n",
      "85    1593\n",
      "86    1689\n",
      "87    1787\n",
      "88    1928\n",
      "89    1999\n",
      "Name: Recovered, Length: 90, dtype: int64\n",
      "0        2.0\n",
      "1        3.0\n",
      "2        5.0\n",
      "3        7.0\n",
      "4        6.0\n",
      "       ...  \n",
      "85    1033.0\n",
      "86     964.0\n",
      "87     899.0\n",
      "88     790.0\n",
      "89     746.0\n",
      "Length: 90, dtype: float64\n"
     ]
    }
   ],
   "source": [
    "data = df['Confirmed'] - df['Recovered'] - df['Deaths']\n",
    "recovered = df['Recovered']\n",
    "print(recovered)\n",
    "print(data)"
   ]
  },
  {
   "cell_type": "code",
   "execution_count": 6,
   "metadata": {},
   "outputs": [],
   "source": [
    "def train_model():\n",
    "    optimal = minimize(loss, [0.001, 0.001], args=(data, ))"
   ]
  },
  {
   "cell_type": "code",
   "execution_count": 7,
   "metadata": {},
   "outputs": [
    {
     "ename": "IndentationError",
     "evalue": "expected an indented block (<ipython-input-7-835e6a23a03e>, line 5)",
     "output_type": "error",
     "traceback": [
      "\u001b[1;36m  File \u001b[1;32m\"<ipython-input-7-835e6a23a03e>\"\u001b[1;36m, line \u001b[1;32m5\u001b[0m\n\u001b[1;33m    S = y[0]\u001b[0m\n\u001b[1;37m    ^\u001b[0m\n\u001b[1;31mIndentationError\u001b[0m\u001b[1;31m:\u001b[0m expected an indented block\n"
     ]
    }
   ],
   "source": [
    "def loss(point, data, recovered, ):\n",
    "    beta, gamma = point\n",
    "    size = len(data)\n",
    "    def SIR(t,y):\n",
    "    S = y[0]\n",
    "    I = y[1]\n",
    "    R = y[2]\n",
    "    return [-beta*S*I, beta*S*I - gamma*I, gamma*I ]\n",
    "solution = solve_ivp(SIR, [0, size], [s_0, i_0, R_0], t_eval=np.arange(0,size,1),vectorized=True)"
   ]
  },
  {
   "cell_type": "code",
   "execution_count": null,
   "metadata": {},
   "outputs": [],
   "source": [
    "from scipy.integrate import odeint\n",
    "\n",
    "def SIR(y,t):\n",
    "    beta, gamma = point\n",
    "    size = len(data)\n",
    "    S = y[0]\n",
    "    I = y[1]  \n",
    "    R = y[2]\n",
    "    dSdt = -beta*S*I\n",
    "    dIdt = beta*S*I - gamma*I\n",
    "    dRdt = gamma*I\n",
    "    return [dSdt, dIdt, dRdt]\n",
    "            \n",
    "y0 = [7e2,2,10]\n",
    "t = np.linspace(0,20,len(data))            \n",
    "solution = odeint(SIR,y0,t)        \n",
    "# print(solution)         \n",
    "y = odeint(SIR,y0,t)\n",
    "print(solution[:,1])\n",
    "# S = y[:,1]\n",
    "print(y[:,1].shape)\n",
    "print(data.shape)\n",
    "l1= np.sqrt(np.mean(y[:,1]-data)**2)\n",
    "l2= np.sqrt(np.mean(y[:,2]-recovered)**2)\n",
    "alpha = 0.5\n",
    "a = alpha*l1+(1-alpha)*l2\n",
    "print(l1)\n",
    "print(l2)\n",
    "print(a)\n",
    "print(S.shape)"
   ]
  },
  {
   "cell_type": "code",
   "execution_count": null,
   "metadata": {},
   "outputs": [],
   "source": [
    "\n",
    "def lossFunction(point , data, recovered, s_0, i_0, r_0):\n",
    "    size = len(data)\n",
    "    beta, gamma = point\n",
    "    \n",
    "    def SIR1(t,y):\n",
    "    S = y[0]\n",
    "    I = y[1]\n",
    "    R = y[2]\n",
    "    return [-beta*S*I, beta*S*I - gamma*I, gamma*I ]\n",
    "lossFuntion()\n"
   ]
  },
  {
   "cell_type": "code",
   "execution_count": null,
   "metadata": {},
   "outputs": [],
   "source": [
    "from scipy.integrate import solve_ivp\n",
    "def exponential_decay(t, y): return -0.5 * y**2\n",
    "sol = solve_ivp(exponential_decay, [0, 1], [2, 3, 8])\n",
    "print(sol.t)\n",
    "\n",
    "print(sol.y)"
   ]
  },
  {
   "cell_type": "code",
   "execution_count": null,
   "metadata": {},
   "outputs": [],
   "source": []
  },
  {
   "cell_type": "code",
   "execution_count": null,
   "metadata": {},
   "outputs": [],
   "source": [
    "point = 0.0004,0.05\n",
    "beta, gamma = point\n",
    "print('beta = ',beta)\n",
    "print('gamma = ', gamma)\n",
    "n=100000\n",
    "ii = 2\n",
    "ri = 10\n",
    "si=n-ii-ri"
   ]
  },
  {
   "cell_type": "code",
   "execution_count": null,
   "metadata": {},
   "outputs": [],
   "source": [
    "from scipy import integrate\n",
    "\n",
    "def lossFunc(point, data, recovered, si, ii , ri):\n",
    "    beta, gamma = point\n",
    "    size = len(data)\n",
    "    def SIR(t,y):\n",
    "        S,I,R = y\n",
    "\n",
    "        dSdt = -beta*S*I\n",
    "        dIdt = beta*S*I - gamma*I\n",
    "        dRdt = gamma*I\n",
    "        return [dSdt, dIdt, dRdt]\n",
    "\n",
    "    sol = integrate.solve_ivp(SIR, (0,size), (10000,2,10), t_eval=np.arange(0,size,1), vectorized=True )\n",
    "    print(sol.y[1].shape)\n",
    "    print(data.shape)\n",
    "    l1= np.sqrt(np.mean(sol.y[1]-data)**2)\n",
    "    l2= np.sqrt(np.mean(sol.y[2]-recovered)**2)\n",
    "    alpha = 0.7\n",
    "    a = alpha*l1+(1-alpha)*l2\n",
    "    return a\n",
    "print('error = ',a)\n",
    "\n",
    "print(sol.y[1])\n",
    "print(data)\n",
    "\n",
    "plt.plot(x, data)\n",
    "plt.plot(x,sol.y[1])"
   ]
  },
  {
   "cell_type": "code",
   "execution_count": null,
   "metadata": {},
   "outputs": [],
   "source": [
    "from scipy.optimize import minimize\n",
    "\n",
    "optimal = minimize(lossFunc, [0.001, 0.001], args=(data, recovered, si, ii, ri), method='L-BFGS-B', bounds = [(0.00000001,0.4),(0.00000001,0.4)])\n",
    "print(optimal)\n",
    "print(optimal.x)\n"
   ]
  },
  {
   "cell_type": "code",
   "execution_count": null,
   "metadata": {},
   "outputs": [],
   "source": [
    "# compare\n",
    "# beta = optimal.x[0]\n",
    "# gamma = optimal.x[1]\n",
    "\n",
    "beta = 0.0001\n",
    "gamma = 0.001\n",
    "\n",
    "\n",
    "def SIR(y,t):\n",
    "    S,I,R = y\n",
    "    dSdt = -beta*S*I\n",
    "    dIdt = beta*S*I - gamma*I\n",
    "    dRdt = gamma*I\n",
    "    return [dSdt, dIdt, dRdt]\n",
    "y0  = (si, ii, ri)\n",
    "y = odeint(SIR,y0,t)\n",
    "# sol = integrate.solve_ivp(SIR, (0,size), (10000,2,10), t_eval=np.arange(0,size,1), vectorized=True )\n",
    "# dif = y[:,1] - data\n",
    "# dif\n",
    "\n",
    "x = np.arange(0,size,1)\n",
    "# plt.plot(x,y[:,1])\n",
    "plt.plot(x,data)"
   ]
  },
  {
   "cell_type": "code",
   "execution_count": null,
   "metadata": {},
   "outputs": [],
   "source": [
    "import matplotlib.pyplot as plt\n",
    "x = np.arange(0,size,1)\n",
    "plt.plot(x,y[:,1])\n",
    "plt.plot(x,data)"
   ]
  },
  {
   "cell_type": "code",
   "execution_count": null,
   "metadata": {},
   "outputs": [],
   "source": [
    "x = np.arange(22)"
   ]
  },
  {
   "cell_type": "code",
   "execution_count": null,
   "metadata": {},
   "outputs": [],
   "source": [
    "res = minimize(rosen, x0, method='BFGS', jac=rosen_der,\n",
    "               options={'gtol': 1e-6, 'disp': True})\n",
    "\n",
    "res.x\n",
    "print(res.message)\n",
    "res.hess_inv"
   ]
  },
  {
   "cell_type": "code",
   "execution_count": null,
   "metadata": {},
   "outputs": [],
   "source": []
  },
  {
   "cell_type": "code",
   "execution_count": null,
   "metadata": {},
   "outputs": [],
   "source": []
  },
  {
   "cell_type": "code",
   "execution_count": 11,
   "metadata": {},
   "outputs": [
    {
     "data": {
      "text/html": [
       "<div>\n",
       "<style scoped>\n",
       "    .dataframe tbody tr th:only-of-type {\n",
       "        vertical-align: middle;\n",
       "    }\n",
       "\n",
       "    .dataframe tbody tr th {\n",
       "        vertical-align: top;\n",
       "    }\n",
       "\n",
       "    .dataframe thead th {\n",
       "        text-align: right;\n",
       "    }\n",
       "</style>\n",
       "<table border=\"1\" class=\"dataframe\">\n",
       "  <thead>\n",
       "    <tr style=\"text-align: right;\">\n",
       "      <th></th>\n",
       "      <th>Date</th>\n",
       "      <th>Confirmed</th>\n",
       "      <th>Deaths</th>\n",
       "      <th>Recovered</th>\n",
       "      <th>daily_new_patient</th>\n",
       "      <th>daily_new_patient_pct</th>\n",
       "    </tr>\n",
       "  </thead>\n",
       "  <tbody>\n",
       "    <tr>\n",
       "      <th>0</th>\n",
       "      <td>2020-01-22</td>\n",
       "      <td>2.0</td>\n",
       "      <td>0.0</td>\n",
       "      <td>0</td>\n",
       "      <td>NaN</td>\n",
       "      <td>NaN</td>\n",
       "    </tr>\n",
       "    <tr>\n",
       "      <th>1</th>\n",
       "      <td>2020-01-23</td>\n",
       "      <td>3.0</td>\n",
       "      <td>0.0</td>\n",
       "      <td>0</td>\n",
       "      <td>1.0</td>\n",
       "      <td>0.500000</td>\n",
       "    </tr>\n",
       "    <tr>\n",
       "      <th>2</th>\n",
       "      <td>2020-01-24</td>\n",
       "      <td>5.0</td>\n",
       "      <td>0.0</td>\n",
       "      <td>0</td>\n",
       "      <td>2.0</td>\n",
       "      <td>0.666667</td>\n",
       "    </tr>\n",
       "    <tr>\n",
       "      <th>3</th>\n",
       "      <td>2020-01-25</td>\n",
       "      <td>7.0</td>\n",
       "      <td>0.0</td>\n",
       "      <td>0</td>\n",
       "      <td>2.0</td>\n",
       "      <td>0.400000</td>\n",
       "    </tr>\n",
       "    <tr>\n",
       "      <th>4</th>\n",
       "      <td>2020-01-26</td>\n",
       "      <td>8.0</td>\n",
       "      <td>0.0</td>\n",
       "      <td>2</td>\n",
       "      <td>1.0</td>\n",
       "      <td>0.142857</td>\n",
       "    </tr>\n",
       "    <tr>\n",
       "      <th>...</th>\n",
       "      <td>...</td>\n",
       "      <td>...</td>\n",
       "      <td>...</td>\n",
       "      <td>...</td>\n",
       "      <td>...</td>\n",
       "      <td>...</td>\n",
       "    </tr>\n",
       "    <tr>\n",
       "      <th>85</th>\n",
       "      <td>2020-04-16</td>\n",
       "      <td>2672.0</td>\n",
       "      <td>46.0</td>\n",
       "      <td>1593</td>\n",
       "      <td>29.0</td>\n",
       "      <td>0.010972</td>\n",
       "    </tr>\n",
       "    <tr>\n",
       "      <th>86</th>\n",
       "      <td>2020-04-17</td>\n",
       "      <td>2700.0</td>\n",
       "      <td>47.0</td>\n",
       "      <td>1689</td>\n",
       "      <td>28.0</td>\n",
       "      <td>0.010479</td>\n",
       "    </tr>\n",
       "    <tr>\n",
       "      <th>87</th>\n",
       "      <td>2020-04-18</td>\n",
       "      <td>2733.0</td>\n",
       "      <td>47.0</td>\n",
       "      <td>1787</td>\n",
       "      <td>33.0</td>\n",
       "      <td>0.012222</td>\n",
       "    </tr>\n",
       "    <tr>\n",
       "      <th>88</th>\n",
       "      <td>2020-04-19</td>\n",
       "      <td>2765.0</td>\n",
       "      <td>47.0</td>\n",
       "      <td>1928</td>\n",
       "      <td>32.0</td>\n",
       "      <td>0.011709</td>\n",
       "    </tr>\n",
       "    <tr>\n",
       "      <th>89</th>\n",
       "      <td>2020-04-20</td>\n",
       "      <td>2792.0</td>\n",
       "      <td>47.0</td>\n",
       "      <td>1999</td>\n",
       "      <td>27.0</td>\n",
       "      <td>0.009765</td>\n",
       "    </tr>\n",
       "  </tbody>\n",
       "</table>\n",
       "<p>90 rows × 6 columns</p>\n",
       "</div>"
      ],
      "text/plain": [
       "          Date  Confirmed  Deaths  Recovered  daily_new_patient  \\\n",
       "0   2020-01-22        2.0     0.0          0                NaN   \n",
       "1   2020-01-23        3.0     0.0          0                1.0   \n",
       "2   2020-01-24        5.0     0.0          0                2.0   \n",
       "3   2020-01-25        7.0     0.0          0                2.0   \n",
       "4   2020-01-26        8.0     0.0          2                1.0   \n",
       "..         ...        ...     ...        ...                ...   \n",
       "85  2020-04-16     2672.0    46.0       1593               29.0   \n",
       "86  2020-04-17     2700.0    47.0       1689               28.0   \n",
       "87  2020-04-18     2733.0    47.0       1787               33.0   \n",
       "88  2020-04-19     2765.0    47.0       1928               32.0   \n",
       "89  2020-04-20     2792.0    47.0       1999               27.0   \n",
       "\n",
       "    daily_new_patient_pct  \n",
       "0                     NaN  \n",
       "1                0.500000  \n",
       "2                0.666667  \n",
       "3                0.400000  \n",
       "4                0.142857  \n",
       "..                    ...  \n",
       "85               0.010972  \n",
       "86               0.010479  \n",
       "87               0.012222  \n",
       "88               0.011709  \n",
       "89               0.009765  \n",
       "\n",
       "[90 rows x 6 columns]"
      ]
     },
     "execution_count": 11,
     "metadata": {},
     "output_type": "execute_result"
    }
   ],
   "source": [
    "df.head(90)"
   ]
  },
  {
   "cell_type": "markdown",
   "metadata": {},
   "source": [
    "https://www.worldometers.info/world-population/thailand-population/\n",
    "Population of Thailand 2019 : 69,625,582\t"
   ]
  },
  {
   "cell_type": "code",
   "execution_count": 10,
   "metadata": {},
   "outputs": [],
   "source": [
    "population = float( 69625582)\n",
    "\n",
    "country_df = pd.DataFrame()"
   ]
  },
  {
   "cell_type": "code",
   "execution_count": null,
   "metadata": {},
   "outputs": [],
   "source": []
  }
 ],
 "metadata": {
  "kernelspec": {
   "display_name": "Python 3",
   "language": "python",
   "name": "python3"
  },
  "language_info": {
   "codemirror_mode": {
    "name": "ipython",
    "version": 3
   },
   "file_extension": ".py",
   "mimetype": "text/x-python",
   "name": "python",
   "nbconvert_exporter": "python",
   "pygments_lexer": "ipython3",
   "version": "3.7.7"
  }
 },
 "nbformat": 4,
 "nbformat_minor": 4
}
