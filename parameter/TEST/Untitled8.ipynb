{
 "cells": [
  {
   "cell_type": "code",
   "execution_count": 41,
   "metadata": {},
   "outputs": [
    {
     "ename": "TypeError",
     "evalue": "eq() takes 3 positional arguments but 5 were given",
     "output_type": "error",
     "traceback": [
      "\u001b[1;31m---------------------------------------------------------------------------\u001b[0m",
      "\u001b[1;31mTypeError\u001b[0m                                 Traceback (most recent call last)",
      "\u001b[1;32m<ipython-input-41-2d60cb9438d7>\u001b[0m in \u001b[0;36m<module>\u001b[1;34m\u001b[0m\n\u001b[0;32m     83\u001b[0m \u001b[1;31m#4.Optimize Fit\u001b[0m\u001b[1;33m\u001b[0m\u001b[1;33m\u001b[0m\u001b[1;33m\u001b[0m\u001b[0m\n\u001b[0;32m     84\u001b[0m \u001b[1;31m#=======================================================\u001b[0m\u001b[1;33m\u001b[0m\u001b[1;33m\u001b[0m\u001b[1;33m\u001b[0m\u001b[0m\n\u001b[1;32m---> 85\u001b[1;33m \u001b[0mfit_score\u001b[0m\u001b[1;33m=\u001b[0m\u001b[0mscore\u001b[0m\u001b[1;33m(\u001b[0m\u001b[0mrates\u001b[0m\u001b[1;33m)\u001b[0m\u001b[1;33m\u001b[0m\u001b[1;33m\u001b[0m\u001b[0m\n\u001b[0m\u001b[0;32m     86\u001b[0m \u001b[0mansw\u001b[0m\u001b[1;33m=\u001b[0m\u001b[0mfmin\u001b[0m\u001b[1;33m(\u001b[0m\u001b[0mscore\u001b[0m\u001b[1;33m,\u001b[0m\u001b[1;33m(\u001b[0m\u001b[0mrates\u001b[0m\u001b[1;33m)\u001b[0m\u001b[1;33m,\u001b[0m\u001b[0mfull_output\u001b[0m\u001b[1;33m=\u001b[0m\u001b[1;36m1\u001b[0m\u001b[1;33m,\u001b[0m\u001b[0mmaxiter\u001b[0m\u001b[1;33m=\u001b[0m\u001b[1;36m1000000\u001b[0m\u001b[1;33m)\u001b[0m\u001b[1;33m\u001b[0m\u001b[1;33m\u001b[0m\u001b[0m\n\u001b[0;32m     87\u001b[0m \u001b[0mbestrates\u001b[0m\u001b[1;33m=\u001b[0m\u001b[0mansw\u001b[0m\u001b[1;33m[\u001b[0m\u001b[1;36m0\u001b[0m\u001b[1;33m]\u001b[0m\u001b[1;33m\u001b[0m\u001b[1;33m\u001b[0m\u001b[0m\n",
      "\u001b[1;32m<ipython-input-41-2d60cb9438d7>\u001b[0m in \u001b[0;36mscore\u001b[1;34m(parms)\u001b[0m\n\u001b[0;32m     72\u001b[0m \u001b[1;32mdef\u001b[0m \u001b[0mscore\u001b[0m\u001b[1;33m(\u001b[0m\u001b[0mparms\u001b[0m\u001b[1;33m)\u001b[0m\u001b[1;33m:\u001b[0m\u001b[1;33m\u001b[0m\u001b[1;33m\u001b[0m\u001b[0m\n\u001b[0;32m     73\u001b[0m     \u001b[1;31m#a.Get Solution to system\u001b[0m\u001b[1;33m\u001b[0m\u001b[1;33m\u001b[0m\u001b[1;33m\u001b[0m\u001b[0m\n\u001b[1;32m---> 74\u001b[1;33m     \u001b[0mF0\u001b[0m\u001b[1;33m,\u001b[0m\u001b[0mF1\u001b[0m\u001b[1;33m,\u001b[0m\u001b[0mF2\u001b[0m\u001b[1;33m,\u001b[0m\u001b[0mT\u001b[0m\u001b[1;33m=\u001b[0m\u001b[0meq\u001b[0m\u001b[1;33m(\u001b[0m\u001b[0mparms\u001b[0m\u001b[1;33m,\u001b[0m\u001b[0my0\u001b[0m\u001b[1;33m,\u001b[0m\u001b[0mstart_time\u001b[0m\u001b[1;33m,\u001b[0m\u001b[0mend_time\u001b[0m\u001b[1;33m,\u001b[0m\u001b[0mintervals\u001b[0m\u001b[1;33m)\u001b[0m\u001b[1;33m\u001b[0m\u001b[1;33m\u001b[0m\u001b[0m\n\u001b[0m\u001b[0;32m     75\u001b[0m     \u001b[1;31m#b.Pick of Model Points to Compare\u001b[0m\u001b[1;33m\u001b[0m\u001b[1;33m\u001b[0m\u001b[1;33m\u001b[0m\u001b[0m\n\u001b[0;32m     76\u001b[0m     \u001b[0mZm\u001b[0m\u001b[1;33m=\u001b[0m\u001b[0mF1\u001b[0m\u001b[1;33m[\u001b[0m\u001b[0mmindex\u001b[0m\u001b[1;33m]\u001b[0m\u001b[1;33m\u001b[0m\u001b[1;33m\u001b[0m\u001b[0m\n",
      "\u001b[1;31mTypeError\u001b[0m: eq() takes 3 positional arguments but 5 were given"
     ]
    }
   ],
   "source": [
    "#Zombie Display\n",
    "# zombie apocalypse modeling\n",
    "import numpy as np\n",
    "import matplotlib.pyplot as plt\n",
    "from scipy.integrate import odeint\n",
    "from scipy import integrate\n",
    "from scipy.optimize import fmin\n",
    "#=====================================================\n",
    "#Notice we must import the Model Definition\n",
    "# from zombiewithdata import eq\n",
    "\n",
    "def eq(parms,y0,t):\n",
    "     #differential-eq-system----------------------\n",
    "     def funct(y,t):\n",
    "        Si, Zi, Ri=y0\n",
    "        P,d,B,G,A=params\n",
    "        # the model equations (see Munz et al. 2009)\n",
    "        f0 = P - B*Si*Zi - d*Si\n",
    "        f1 = B*Si*Zi + G*Ri - A*Si*Zi\n",
    "        f2 = d*Si + A*Si*Zi - G*Ri\n",
    "        return [f0, f1, f2]\n",
    "     #integrate------------------------------------\n",
    "     ds = odeint(funct,y0,t)\n",
    "#     print(ds)\n",
    "#      return ds.T\n",
    "\n",
    "     return ds\n",
    "   \n",
    "#=====================================================\n",
    " \n",
    "#1.Get Data\n",
    "#====================================================\n",
    "Td=np.array([0.5,1,1.5,2,2.2,3,3.5,4,4.5,5])#time\n",
    "Zd=np.array([0,2,2,5,2,10,15,50,250,400])#zombie pop\n",
    "#====================================================\n",
    " \n",
    "#2.Set up Info for Model System\n",
    "#===================================================\n",
    "# model parameters\n",
    "#----------------------------------------------------\n",
    "P = 0       # birth rate\n",
    "d = 0.0001  # natural death percent (per day)\n",
    "B = 0.0095  # transmission percent  (per day)\n",
    "G = 0.0001  # resurect percent (per day)\n",
    "A = 0.0001  # destroy perecent (per day)\n",
    "rates=(P,d,B,G,A)\n",
    " \n",
    "# model initial conditions\n",
    "#---------------------------------------------------\n",
    "S0 = 500.               # initial population\n",
    "Z0 = 0                  # initial zombie population\n",
    "R0 = 0                  # initial death population\n",
    "y0 = [S0, Z0, R0]      # initial condition vector\n",
    " \n",
    "# model steps\n",
    "#---------------------------------------------------\n",
    "start_time=0.0\n",
    "end_time=5.0\n",
    "intervals=1000\n",
    "mt=np.linspace(start_time,end_time,intervals)\n",
    " \n",
    "# model index to compare to data\n",
    "#----------------------------------------------------\n",
    "findindex=lambda x:np.where(mt>=x)[0][0]\n",
    "mindex=map(findindex,Td)\n",
    "#=======================================================\n",
    " \n",
    " \n",
    " \n",
    "#3.Score Fit of System\n",
    "#=========================================================\n",
    "def score(parms):\n",
    "    #a.Get Solution to system\n",
    "    F0,F1,F2,T=eq(parms,y0,start_time,end_time,intervals)\n",
    "    #b.Pick of Model Points to Compare\n",
    "    Zm=F1[mindex]\n",
    "    #c.Score Difference between model and data points\n",
    "    ss=lambda data,model:((data-model)**2).sum()\n",
    "    return ss(Zd,Zm)\n",
    "#========================================================\n",
    " \n",
    " \n",
    "#4.Optimize Fit\n",
    "#=======================================================\n",
    "fit_score=score(rates)\n",
    "answ=fmin(score,(rates),full_output=1,maxiter=1000000)\n",
    "bestrates=answ[0]\n",
    "bestscore=answ[1]\n",
    "P,d,B,G,A=answ[0]\n",
    "newrates=(P,d,B,G,A)\n",
    "#=======================================================\n",
    " \n",
    "#5.Generate Solution to System\n",
    "#=======================================================\n",
    "F0,F1,F2,T=eq(newrates,y0,(start_time,end_time,intervals))\n",
    "Zm=F1[mindex]\n",
    "Tm=T[mindex]\n",
    "\n",
    "\n",
    "# Tm=np.append([0],Td)\n",
    "# Sm,Zm,Rm=eq(rates,y0,Tm)\n",
    "\n",
    "#======================================================\n",
    " \n",
    " \n",
    " \n",
    " \n",
    "#6. Plot Solution to System\n",
    "#=========================================================\n",
    "plt.figure()\n",
    "plt.plot(T,F1,'b-',Tm,Zm,'ro',Td,Zd,'go')\n",
    "plt.legend(('Zombies','Model Points','Data Points'),\n",
    "           'upper center')\n",
    "plt.xlabel('days')\n",
    "plt.ylabel('population')\n",
    "title='Zombie Apocalypse  Fit Score: '+str(bestscore)\n",
    "plt.title(title)\n",
    "#=========================================================\n"
   ]
  },
  {
   "cell_type": "code",
   "execution_count": 4,
   "metadata": {},
   "outputs": [],
   "source": [
    "Td=np.array([0.5,1,1.5,2,2.2,3,3.5,4,4.5,5])#time\n",
    "Zd=np.array([0,2,2,5,2,10,15,50,250,400])#zombie pop\n",
    "\n",
    "findindex=lambda x:np.where(mt>=x)[0][0]\n",
    "mindex=map(findindex,Td)"
   ]
  },
  {
   "cell_type": "code",
   "execution_count": 5,
   "metadata": {},
   "outputs": [
    {
     "data": {
      "text/plain": [
       "<function __main__.<lambda>(x)>"
      ]
     },
     "execution_count": 5,
     "metadata": {},
     "output_type": "execute_result"
    }
   ],
   "source": [
    "findindex"
   ]
  },
  {
   "cell_type": "code",
   "execution_count": 6,
   "metadata": {},
   "outputs": [
    {
     "data": {
      "text/plain": [
       "<map at 0x1be0f507448>"
      ]
     },
     "execution_count": 6,
     "metadata": {},
     "output_type": "execute_result"
    }
   ],
   "source": [
    "mindex"
   ]
  },
  {
   "cell_type": "code",
   "execution_count": 13,
   "metadata": {},
   "outputs": [],
   "source": [
    "start_time=0.0\n",
    "end_time=5.0\n",
    "intervals=1000\n",
    "mt=np.linspace(start_time,end_time,intervals)"
   ]
  },
  {
   "cell_type": "code",
   "execution_count": 14,
   "metadata": {},
   "outputs": [
    {
     "data": {
      "text/plain": [
       "array([0.        , 0.00500501, 0.01001001, 0.01501502, 0.02002002,\n",
       "       0.02502503, 0.03003003, 0.03503504, 0.04004004, 0.04504505,\n",
       "       0.05005005, 0.05505506, 0.06006006, 0.06506507, 0.07007007,\n",
       "       0.07507508, 0.08008008, 0.08508509, 0.09009009, 0.0950951 ,\n",
       "       0.1001001 , 0.10510511, 0.11011011, 0.11511512, 0.12012012,\n",
       "       0.12512513, 0.13013013, 0.13513514, 0.14014014, 0.14514515,\n",
       "       0.15015015, 0.15515516, 0.16016016, 0.16516517, 0.17017017,\n",
       "       0.17517518, 0.18018018, 0.18518519, 0.19019019, 0.1951952 ,\n",
       "       0.2002002 , 0.20520521, 0.21021021, 0.21521522, 0.22022022,\n",
       "       0.22522523, 0.23023023, 0.23523524, 0.24024024, 0.24524525,\n",
       "       0.25025025, 0.25525526, 0.26026026, 0.26526527, 0.27027027,\n",
       "       0.27527528, 0.28028028, 0.28528529, 0.29029029, 0.2952953 ,\n",
       "       0.3003003 , 0.30530531, 0.31031031, 0.31531532, 0.32032032,\n",
       "       0.32532533, 0.33033033, 0.33533534, 0.34034034, 0.34534535,\n",
       "       0.35035035, 0.35535536, 0.36036036, 0.36536537, 0.37037037,\n",
       "       0.37537538, 0.38038038, 0.38538539, 0.39039039, 0.3953954 ,\n",
       "       0.4004004 , 0.40540541, 0.41041041, 0.41541542, 0.42042042,\n",
       "       0.42542543, 0.43043043, 0.43543544, 0.44044044, 0.44544545,\n",
       "       0.45045045, 0.45545546, 0.46046046, 0.46546547, 0.47047047,\n",
       "       0.47547548, 0.48048048, 0.48548549, 0.49049049, 0.4954955 ,\n",
       "       0.5005005 , 0.50550551, 0.51051051, 0.51551552, 0.52052052,\n",
       "       0.52552553, 0.53053053, 0.53553554, 0.54054054, 0.54554555,\n",
       "       0.55055055, 0.55555556, 0.56056056, 0.56556557, 0.57057057,\n",
       "       0.57557558, 0.58058058, 0.58558559, 0.59059059, 0.5955956 ,\n",
       "       0.6006006 , 0.60560561, 0.61061061, 0.61561562, 0.62062062,\n",
       "       0.62562563, 0.63063063, 0.63563564, 0.64064064, 0.64564565,\n",
       "       0.65065065, 0.65565566, 0.66066066, 0.66566567, 0.67067067,\n",
       "       0.67567568, 0.68068068, 0.68568569, 0.69069069, 0.6956957 ,\n",
       "       0.7007007 , 0.70570571, 0.71071071, 0.71571572, 0.72072072,\n",
       "       0.72572573, 0.73073073, 0.73573574, 0.74074074, 0.74574575,\n",
       "       0.75075075, 0.75575576, 0.76076076, 0.76576577, 0.77077077,\n",
       "       0.77577578, 0.78078078, 0.78578579, 0.79079079, 0.7957958 ,\n",
       "       0.8008008 , 0.80580581, 0.81081081, 0.81581582, 0.82082082,\n",
       "       0.82582583, 0.83083083, 0.83583584, 0.84084084, 0.84584585,\n",
       "       0.85085085, 0.85585586, 0.86086086, 0.86586587, 0.87087087,\n",
       "       0.87587588, 0.88088088, 0.88588589, 0.89089089, 0.8958959 ,\n",
       "       0.9009009 , 0.90590591, 0.91091091, 0.91591592, 0.92092092,\n",
       "       0.92592593, 0.93093093, 0.93593594, 0.94094094, 0.94594595,\n",
       "       0.95095095, 0.95595596, 0.96096096, 0.96596597, 0.97097097,\n",
       "       0.97597598, 0.98098098, 0.98598599, 0.99099099, 0.995996  ,\n",
       "       1.001001  , 1.00600601, 1.01101101, 1.01601602, 1.02102102,\n",
       "       1.02602603, 1.03103103, 1.03603604, 1.04104104, 1.04604605,\n",
       "       1.05105105, 1.05605606, 1.06106106, 1.06606607, 1.07107107,\n",
       "       1.07607608, 1.08108108, 1.08608609, 1.09109109, 1.0960961 ,\n",
       "       1.1011011 , 1.10610611, 1.11111111, 1.11611612, 1.12112112,\n",
       "       1.12612613, 1.13113113, 1.13613614, 1.14114114, 1.14614615,\n",
       "       1.15115115, 1.15615616, 1.16116116, 1.16616617, 1.17117117,\n",
       "       1.17617618, 1.18118118, 1.18618619, 1.19119119, 1.1961962 ,\n",
       "       1.2012012 , 1.20620621, 1.21121121, 1.21621622, 1.22122122,\n",
       "       1.22622623, 1.23123123, 1.23623624, 1.24124124, 1.24624625,\n",
       "       1.25125125, 1.25625626, 1.26126126, 1.26626627, 1.27127127,\n",
       "       1.27627628, 1.28128128, 1.28628629, 1.29129129, 1.2962963 ,\n",
       "       1.3013013 , 1.30630631, 1.31131131, 1.31631632, 1.32132132,\n",
       "       1.32632633, 1.33133133, 1.33633634, 1.34134134, 1.34634635,\n",
       "       1.35135135, 1.35635636, 1.36136136, 1.36636637, 1.37137137,\n",
       "       1.37637638, 1.38138138, 1.38638639, 1.39139139, 1.3963964 ,\n",
       "       1.4014014 , 1.40640641, 1.41141141, 1.41641642, 1.42142142,\n",
       "       1.42642643, 1.43143143, 1.43643644, 1.44144144, 1.44644645,\n",
       "       1.45145145, 1.45645646, 1.46146146, 1.46646647, 1.47147147,\n",
       "       1.47647648, 1.48148148, 1.48648649, 1.49149149, 1.4964965 ,\n",
       "       1.5015015 , 1.50650651, 1.51151151, 1.51651652, 1.52152152,\n",
       "       1.52652653, 1.53153153, 1.53653654, 1.54154154, 1.54654655,\n",
       "       1.55155155, 1.55655656, 1.56156156, 1.56656657, 1.57157157,\n",
       "       1.57657658, 1.58158158, 1.58658659, 1.59159159, 1.5965966 ,\n",
       "       1.6016016 , 1.60660661, 1.61161161, 1.61661662, 1.62162162,\n",
       "       1.62662663, 1.63163163, 1.63663664, 1.64164164, 1.64664665,\n",
       "       1.65165165, 1.65665666, 1.66166166, 1.66666667, 1.67167167,\n",
       "       1.67667668, 1.68168168, 1.68668669, 1.69169169, 1.6966967 ,\n",
       "       1.7017017 , 1.70670671, 1.71171171, 1.71671672, 1.72172172,\n",
       "       1.72672673, 1.73173173, 1.73673674, 1.74174174, 1.74674675,\n",
       "       1.75175175, 1.75675676, 1.76176176, 1.76676677, 1.77177177,\n",
       "       1.77677678, 1.78178178, 1.78678679, 1.79179179, 1.7967968 ,\n",
       "       1.8018018 , 1.80680681, 1.81181181, 1.81681682, 1.82182182,\n",
       "       1.82682683, 1.83183183, 1.83683684, 1.84184184, 1.84684685,\n",
       "       1.85185185, 1.85685686, 1.86186186, 1.86686687, 1.87187187,\n",
       "       1.87687688, 1.88188188, 1.88688689, 1.89189189, 1.8968969 ,\n",
       "       1.9019019 , 1.90690691, 1.91191191, 1.91691692, 1.92192192,\n",
       "       1.92692693, 1.93193193, 1.93693694, 1.94194194, 1.94694695,\n",
       "       1.95195195, 1.95695696, 1.96196196, 1.96696697, 1.97197197,\n",
       "       1.97697698, 1.98198198, 1.98698699, 1.99199199, 1.996997  ,\n",
       "       2.002002  , 2.00700701, 2.01201201, 2.01701702, 2.02202202,\n",
       "       2.02702703, 2.03203203, 2.03703704, 2.04204204, 2.04704705,\n",
       "       2.05205205, 2.05705706, 2.06206206, 2.06706707, 2.07207207,\n",
       "       2.07707708, 2.08208208, 2.08708709, 2.09209209, 2.0970971 ,\n",
       "       2.1021021 , 2.10710711, 2.11211211, 2.11711712, 2.12212212,\n",
       "       2.12712713, 2.13213213, 2.13713714, 2.14214214, 2.14714715,\n",
       "       2.15215215, 2.15715716, 2.16216216, 2.16716717, 2.17217217,\n",
       "       2.17717718, 2.18218218, 2.18718719, 2.19219219, 2.1971972 ,\n",
       "       2.2022022 , 2.20720721, 2.21221221, 2.21721722, 2.22222222,\n",
       "       2.22722723, 2.23223223, 2.23723724, 2.24224224, 2.24724725,\n",
       "       2.25225225, 2.25725726, 2.26226226, 2.26726727, 2.27227227,\n",
       "       2.27727728, 2.28228228, 2.28728729, 2.29229229, 2.2972973 ,\n",
       "       2.3023023 , 2.30730731, 2.31231231, 2.31731732, 2.32232232,\n",
       "       2.32732733, 2.33233233, 2.33733734, 2.34234234, 2.34734735,\n",
       "       2.35235235, 2.35735736, 2.36236236, 2.36736737, 2.37237237,\n",
       "       2.37737738, 2.38238238, 2.38738739, 2.39239239, 2.3973974 ,\n",
       "       2.4024024 , 2.40740741, 2.41241241, 2.41741742, 2.42242242,\n",
       "       2.42742743, 2.43243243, 2.43743744, 2.44244244, 2.44744745,\n",
       "       2.45245245, 2.45745746, 2.46246246, 2.46746747, 2.47247247,\n",
       "       2.47747748, 2.48248248, 2.48748749, 2.49249249, 2.4974975 ,\n",
       "       2.5025025 , 2.50750751, 2.51251251, 2.51751752, 2.52252252,\n",
       "       2.52752753, 2.53253253, 2.53753754, 2.54254254, 2.54754755,\n",
       "       2.55255255, 2.55755756, 2.56256256, 2.56756757, 2.57257257,\n",
       "       2.57757758, 2.58258258, 2.58758759, 2.59259259, 2.5975976 ,\n",
       "       2.6026026 , 2.60760761, 2.61261261, 2.61761762, 2.62262262,\n",
       "       2.62762763, 2.63263263, 2.63763764, 2.64264264, 2.64764765,\n",
       "       2.65265265, 2.65765766, 2.66266266, 2.66766767, 2.67267267,\n",
       "       2.67767768, 2.68268268, 2.68768769, 2.69269269, 2.6976977 ,\n",
       "       2.7027027 , 2.70770771, 2.71271271, 2.71771772, 2.72272272,\n",
       "       2.72772773, 2.73273273, 2.73773774, 2.74274274, 2.74774775,\n",
       "       2.75275275, 2.75775776, 2.76276276, 2.76776777, 2.77277277,\n",
       "       2.77777778, 2.78278278, 2.78778779, 2.79279279, 2.7977978 ,\n",
       "       2.8028028 , 2.80780781, 2.81281281, 2.81781782, 2.82282282,\n",
       "       2.82782783, 2.83283283, 2.83783784, 2.84284284, 2.84784785,\n",
       "       2.85285285, 2.85785786, 2.86286286, 2.86786787, 2.87287287,\n",
       "       2.87787788, 2.88288288, 2.88788789, 2.89289289, 2.8978979 ,\n",
       "       2.9029029 , 2.90790791, 2.91291291, 2.91791792, 2.92292292,\n",
       "       2.92792793, 2.93293293, 2.93793794, 2.94294294, 2.94794795,\n",
       "       2.95295295, 2.95795796, 2.96296296, 2.96796797, 2.97297297,\n",
       "       2.97797798, 2.98298298, 2.98798799, 2.99299299, 2.997998  ,\n",
       "       3.003003  , 3.00800801, 3.01301301, 3.01801802, 3.02302302,\n",
       "       3.02802803, 3.03303303, 3.03803804, 3.04304304, 3.04804805,\n",
       "       3.05305305, 3.05805806, 3.06306306, 3.06806807, 3.07307307,\n",
       "       3.07807808, 3.08308308, 3.08808809, 3.09309309, 3.0980981 ,\n",
       "       3.1031031 , 3.10810811, 3.11311311, 3.11811812, 3.12312312,\n",
       "       3.12812813, 3.13313313, 3.13813814, 3.14314314, 3.14814815,\n",
       "       3.15315315, 3.15815816, 3.16316316, 3.16816817, 3.17317317,\n",
       "       3.17817818, 3.18318318, 3.18818819, 3.19319319, 3.1981982 ,\n",
       "       3.2032032 , 3.20820821, 3.21321321, 3.21821822, 3.22322322,\n",
       "       3.22822823, 3.23323323, 3.23823824, 3.24324324, 3.24824825,\n",
       "       3.25325325, 3.25825826, 3.26326326, 3.26826827, 3.27327327,\n",
       "       3.27827828, 3.28328328, 3.28828829, 3.29329329, 3.2982983 ,\n",
       "       3.3033033 , 3.30830831, 3.31331331, 3.31831832, 3.32332332,\n",
       "       3.32832833, 3.33333333, 3.33833834, 3.34334334, 3.34834835,\n",
       "       3.35335335, 3.35835836, 3.36336336, 3.36836837, 3.37337337,\n",
       "       3.37837838, 3.38338338, 3.38838839, 3.39339339, 3.3983984 ,\n",
       "       3.4034034 , 3.40840841, 3.41341341, 3.41841842, 3.42342342,\n",
       "       3.42842843, 3.43343343, 3.43843844, 3.44344344, 3.44844845,\n",
       "       3.45345345, 3.45845846, 3.46346346, 3.46846847, 3.47347347,\n",
       "       3.47847848, 3.48348348, 3.48848849, 3.49349349, 3.4984985 ,\n",
       "       3.5035035 , 3.50850851, 3.51351351, 3.51851852, 3.52352352,\n",
       "       3.52852853, 3.53353353, 3.53853854, 3.54354354, 3.54854855,\n",
       "       3.55355355, 3.55855856, 3.56356356, 3.56856857, 3.57357357,\n",
       "       3.57857858, 3.58358358, 3.58858859, 3.59359359, 3.5985986 ,\n",
       "       3.6036036 , 3.60860861, 3.61361361, 3.61861862, 3.62362362,\n",
       "       3.62862863, 3.63363363, 3.63863864, 3.64364364, 3.64864865,\n",
       "       3.65365365, 3.65865866, 3.66366366, 3.66866867, 3.67367367,\n",
       "       3.67867868, 3.68368368, 3.68868869, 3.69369369, 3.6986987 ,\n",
       "       3.7037037 , 3.70870871, 3.71371371, 3.71871872, 3.72372372,\n",
       "       3.72872873, 3.73373373, 3.73873874, 3.74374374, 3.74874875,\n",
       "       3.75375375, 3.75875876, 3.76376376, 3.76876877, 3.77377377,\n",
       "       3.77877878, 3.78378378, 3.78878879, 3.79379379, 3.7987988 ,\n",
       "       3.8038038 , 3.80880881, 3.81381381, 3.81881882, 3.82382382,\n",
       "       3.82882883, 3.83383383, 3.83883884, 3.84384384, 3.84884885,\n",
       "       3.85385385, 3.85885886, 3.86386386, 3.86886887, 3.87387387,\n",
       "       3.87887888, 3.88388388, 3.88888889, 3.89389389, 3.8988989 ,\n",
       "       3.9039039 , 3.90890891, 3.91391391, 3.91891892, 3.92392392,\n",
       "       3.92892893, 3.93393393, 3.93893894, 3.94394394, 3.94894895,\n",
       "       3.95395395, 3.95895896, 3.96396396, 3.96896897, 3.97397397,\n",
       "       3.97897898, 3.98398398, 3.98898899, 3.99399399, 3.998999  ,\n",
       "       4.004004  , 4.00900901, 4.01401401, 4.01901902, 4.02402402,\n",
       "       4.02902903, 4.03403403, 4.03903904, 4.04404404, 4.04904905,\n",
       "       4.05405405, 4.05905906, 4.06406406, 4.06906907, 4.07407407,\n",
       "       4.07907908, 4.08408408, 4.08908909, 4.09409409, 4.0990991 ,\n",
       "       4.1041041 , 4.10910911, 4.11411411, 4.11911912, 4.12412412,\n",
       "       4.12912913, 4.13413413, 4.13913914, 4.14414414, 4.14914915,\n",
       "       4.15415415, 4.15915916, 4.16416416, 4.16916917, 4.17417417,\n",
       "       4.17917918, 4.18418418, 4.18918919, 4.19419419, 4.1991992 ,\n",
       "       4.2042042 , 4.20920921, 4.21421421, 4.21921922, 4.22422422,\n",
       "       4.22922923, 4.23423423, 4.23923924, 4.24424424, 4.24924925,\n",
       "       4.25425425, 4.25925926, 4.26426426, 4.26926927, 4.27427427,\n",
       "       4.27927928, 4.28428428, 4.28928929, 4.29429429, 4.2992993 ,\n",
       "       4.3043043 , 4.30930931, 4.31431431, 4.31931932, 4.32432432,\n",
       "       4.32932933, 4.33433433, 4.33933934, 4.34434434, 4.34934935,\n",
       "       4.35435435, 4.35935936, 4.36436436, 4.36936937, 4.37437437,\n",
       "       4.37937938, 4.38438438, 4.38938939, 4.39439439, 4.3993994 ,\n",
       "       4.4044044 , 4.40940941, 4.41441441, 4.41941942, 4.42442442,\n",
       "       4.42942943, 4.43443443, 4.43943944, 4.44444444, 4.44944945,\n",
       "       4.45445445, 4.45945946, 4.46446446, 4.46946947, 4.47447447,\n",
       "       4.47947948, 4.48448448, 4.48948949, 4.49449449, 4.4994995 ,\n",
       "       4.5045045 , 4.50950951, 4.51451451, 4.51951952, 4.52452452,\n",
       "       4.52952953, 4.53453453, 4.53953954, 4.54454454, 4.54954955,\n",
       "       4.55455455, 4.55955956, 4.56456456, 4.56956957, 4.57457457,\n",
       "       4.57957958, 4.58458458, 4.58958959, 4.59459459, 4.5995996 ,\n",
       "       4.6046046 , 4.60960961, 4.61461461, 4.61961962, 4.62462462,\n",
       "       4.62962963, 4.63463463, 4.63963964, 4.64464464, 4.64964965,\n",
       "       4.65465465, 4.65965966, 4.66466466, 4.66966967, 4.67467467,\n",
       "       4.67967968, 4.68468468, 4.68968969, 4.69469469, 4.6996997 ,\n",
       "       4.7047047 , 4.70970971, 4.71471471, 4.71971972, 4.72472472,\n",
       "       4.72972973, 4.73473473, 4.73973974, 4.74474474, 4.74974975,\n",
       "       4.75475475, 4.75975976, 4.76476476, 4.76976977, 4.77477477,\n",
       "       4.77977978, 4.78478478, 4.78978979, 4.79479479, 4.7997998 ,\n",
       "       4.8048048 , 4.80980981, 4.81481481, 4.81981982, 4.82482482,\n",
       "       4.82982983, 4.83483483, 4.83983984, 4.84484484, 4.84984985,\n",
       "       4.85485485, 4.85985986, 4.86486486, 4.86986987, 4.87487487,\n",
       "       4.87987988, 4.88488488, 4.88988989, 4.89489489, 4.8998999 ,\n",
       "       4.9049049 , 4.90990991, 4.91491491, 4.91991992, 4.92492492,\n",
       "       4.92992993, 4.93493493, 4.93993994, 4.94494494, 4.94994995,\n",
       "       4.95495495, 4.95995996, 4.96496496, 4.96996997, 4.97497497,\n",
       "       4.97997998, 4.98498498, 4.98998999, 4.99499499, 5.        ])"
      ]
     },
     "execution_count": 14,
     "metadata": {},
     "output_type": "execute_result"
    }
   ],
   "source": [
    "mt"
   ]
  },
  {
   "cell_type": "code",
   "execution_count": 15,
   "metadata": {},
   "outputs": [],
   "source": [
    "findindex=lambda x:np.where(mt>=x)[0][0]"
   ]
  },
  {
   "cell_type": "code",
   "execution_count": 16,
   "metadata": {},
   "outputs": [
    {
     "data": {
      "text/plain": [
       "<function __main__.<lambda>(x)>"
      ]
     },
     "execution_count": 16,
     "metadata": {},
     "output_type": "execute_result"
    }
   ],
   "source": [
    "findindex"
   ]
  },
  {
   "cell_type": "code",
   "execution_count": 37,
   "metadata": {},
   "outputs": [
    {
     "name": "stdout",
     "output_type": "stream",
     "text": [
      "[   5.107   15.593  178.942  351.23   523.172 1039.449 1223.34 ]\n",
      "[[Model]]\n",
      "    Model(_eval)\n",
      "[[Fit Statistics]]\n",
      "    # fitting method   = leastsq\n",
      "    # function evals   = 35\n",
      "    # data points      = 7\n",
      "    # variables        = 3\n",
      "    chi-square         = 24.8406124\n",
      "    reduced chi-square = 6.21015310\n",
      "    Akaike info crit   = 14.8659883\n",
      "    Bayesian info crit = 14.7037188\n",
      "[[Variables]]\n",
      "    offset:  4.05093442 +/- 1.80069194 (44.45%) (init = 0)\n",
      "    scale:   0.01341703 +/- 0.01831231 (136.49%) (init = 1)\n",
      "    decay:   1.11970981 +/- 0.19049621 (17.01%) (init = 1)\n",
      "[[Correlations]] (unreported correlations are < 0.100)\n",
      "    C(scale, decay)  = -0.999\n",
      "    C(offset, scale) = -0.697\n",
      "    C(offset, decay) =  0.672\n"
     ]
    },
    {
     "data": {
      "image/png": "[encoded data removed]",
      "text/plain": [
       "<Figure size 432x288 with 1 Axes>"
      ]
     },
     "metadata": {
      "needs_background": "light"
     },
     "output_type": "display_data"
    }
   ],
   "source": [
    "import numpy as np\n",
    "from lmfit import Model\n",
    "import matplotlib.pyplot as plt\n",
    "\n",
    "x = np.array((5.107, 15.593, 178.942, 351.23, 523.172, 1039.449, 1223.34))\n",
    "y = np.array((3.57, 4.09, 9.19, 14.3, 19.41, 32.17, 45.3))\n",
    "i=1\n",
    "print(x)\n",
    "\n",
    "from lmfit.models import ExpressionModel\n",
    "model = ExpressionModel('offset + scale*x**decay')\n",
    "# def expfunc(x, scale, decay, offset):\n",
    "#      \"model exponential decay with offset\"\n",
    "#     return offset+scale*x**decay\n",
    "\n",
    "# create model from the above model function\n",
    "# model = Model(expfunc)\n",
    "\n",
    "# create parameters with initial values, \n",
    "# using names from model function\n",
    "params = model.make_params(offset=0, scale=1, decay=1)\n",
    "\n",
    "# fit data 'y' to model with params\n",
    "result = model.fit(y, params, x=x)\n",
    "\n",
    "# print and plot result \n",
    "print(result.fit_report())\n",
    "result.plot_fit()\n",
    "plt.show()"
   ]
  },
  {
   "cell_type": "code",
   "execution_count": null,
   "metadata": {},
   "outputs": [],
   "source": []
  },
  {
   "cell_type": "code",
   "execution_count": null,
   "metadata": {},
   "outputs": [],
   "source": [
    "import pandas as pd\n",
    "path = 'DataForThai.csv'\n",
    "df = pd.read_csv(path)"
   ]
  },
  {
   "cell_type": "code",
   "execution_count": null,
   "metadata": {},
   "outputs": [],
   "source": []
  },
  {
   "cell_type": "code",
   "execution_count": null,
   "metadata": {},
   "outputs": [],
   "source": [
    "import numpy as np\n",
    "from lmfit import Model\n",
    "import matplotlib.pyplot as plt\n",
    "\n",
    "x = np.array((5.107, 15.593, 178.942, 351.23, 523.172, 1039.449, 1223.34))\n",
    "y = np.array((3.57, 4.09, 9.19, 14.3, 19.41, 32.17, 45.3))\n",
    "i=1\n",
    "print(x)\n",
    "\n",
    "from lmfit.models import ExpressionModel\n",
    "model = ExpressionModel('offset + scale*x**decay')\n",
    "# def expfunc(x, scale, decay, offset):\n",
    "#      \"model exponential decay with offset\"\n",
    "#     return offset+scale*x**decay\n",
    "\n",
    "# create model from the above model function\n",
    "# model = Model(expfunc)\n",
    "\n",
    "# create parameters with initial values, \n",
    "# using names from model function\n",
    "params = model.make_params(offset=0, scale=1, decay=1)\n",
    "\n",
    "# fit data 'y' to model with params\n",
    "result = model.fit(y, params, x=x)\n",
    "\n",
    "# print and plot result \n",
    "print(result.fit_report())\n",
    "result.plot_fit()\n",
    "plt.show()"
   ]
  },
  {
   "cell_type": "code",
   "execution_count": null,
   "metadata": {},
   "outputs": [],
   "source": []
  },
  {
   "cell_type": "code",
   "execution_count": 42,
   "metadata": {},
   "outputs": [
    {
     "name": "stdout",
     "output_type": "stream",
     "text": [
      "Initial SSE Objective: 54.147050727638714\n",
      "Final SSE Objective: 1.3675647741318953\n",
      "U: 2.588095621283199\n",
      "alpha1: 0.00530680971120946\n",
      "alpha2: 0.0028852717986914116\n"
     ]
    },
    {
     "data": {
      "image/png": "[encoded data removed]",
      "text/plain": [
       "<Figure size 432x288 with 3 Axes>"
      ]
     },
     "metadata": {
      "needs_background": "light"
     },
     "output_type": "display_data"
    }
   ],
   "source": [
    "import numpy as np\n",
    "import matplotlib.pyplot as plt\n",
    "from scipy.integrate import odeint\n",
    "from scipy.optimize import minimize\n",
    "import pandas as pd\n",
    "\n",
    "# generate data file from TCLab or get sample data file from:\n",
    "#  https://apmonitor.com/pdc/index.php/Main/ArduinoEstimation2\n",
    "# Import data file\n",
    "# Column 1 = time (t)\n",
    "# Column 2 = input (u)\n",
    "# Column 3 = output (yp)\n",
    "data = np.loadtxt('data.txt',delimiter=',',skiprows=1)\n",
    "# extract data columns\n",
    "t = data[:,0].T\n",
    "Q1 = data[:,1].T\n",
    "Q2 = data[:,2].T\n",
    "T1meas = data[:,3].T\n",
    "T2meas = data[:,4].T\n",
    "\n",
    "# number of time points\n",
    "ns = len(t)\n",
    "\n",
    "# define energy balance model\n",
    "def heat(x,t,Q1,Q2,p):\n",
    "    # Optimized parameters\n",
    "    U,alpha1,alpha2 = p\n",
    "\n",
    "    # Parameters\n",
    "    Ta = 23 + 273.15   # K\n",
    "    m = 4.0/1000.0     # kg\n",
    "    Cp = 0.5 * 1000.0  # J/kg-K    \n",
    "    A = 10.0 / 100.0**2 # Area in m^2\n",
    "    As = 2.0 / 100.0**2 # Area in m^2\n",
    "    eps = 0.9          # Emissivity\n",
    "    sigma = 5.67e-8    # Stefan-Boltzman\n",
    "\n",
    "    # Temperature States \n",
    "    T1 = x[0] + 273.15\n",
    "    T2 = x[1] + 273.15\n",
    "\n",
    "    # Heat Transfer Exchange Between 1 and 2\n",
    "    conv12 = U*As*(T2-T1)\n",
    "    rad12  = eps*sigma*As * (T2**4 - T1**4)\n",
    "\n",
    "    # Nonlinear Energy Balances\n",
    "    dT1dt = (1.0/(m*Cp))*(U*A*(Ta-T1) \\\n",
    "            + eps * sigma * A * (Ta**4 - T1**4) \\\n",
    "            + conv12 + rad12 \\\n",
    "            + alpha1*Q1)\n",
    "    dT2dt = (1.0/(m*Cp))*(U*A*(Ta-T2) \\\n",
    "            + eps * sigma * A * (Ta**4 - T2**4) \\\n",
    "            - conv12 - rad12 \\\n",
    "            + alpha2*Q2)\n",
    "\n",
    "    return [dT1dt,dT2dt]\n",
    "\n",
    "def simulate(p):\n",
    "    T = np.zeros((len(t),2))\n",
    "    T[0,0] = T1meas[0]\n",
    "    T[0,1] = T2meas[0]    \n",
    "    T0 = T[0]\n",
    "    for i in range(len(t)-1):\n",
    "        ts = [t[i],t[i+1]]\n",
    "        y = odeint(heat,T0,ts,args=(Q1[i],Q2[i],p))\n",
    "        T0 = y[-1]\n",
    "        T[i+1] = T0\n",
    "    return T\n",
    "\n",
    "# define objective\n",
    "def objective(p):\n",
    "    # simulate model\n",
    "    Tp = simulate(p)\n",
    "    # calculate objective\n",
    "    obj = 0.0\n",
    "    for i in range(len(t)):\n",
    "        obj += ((Tp[i,0]-T1meas[i])/T1meas[i])**2 \\\n",
    "              +((Tp[i,1]-T2meas[i])/T2meas[i])**2\n",
    "    # return result\n",
    "    return obj\n",
    "\n",
    "# Parameter initial guess\n",
    "U = 10.0           # Heat transfer coefficient (W/m^2-K)\n",
    "alpha1 = 0.0100    # Heat gain 1 (W/%)\n",
    "alpha2 = 0.0075    # Heat gain 2 (W/%)\n",
    "p0 = [U,alpha1,alpha2]\n",
    "\n",
    "# show initial objective\n",
    "print('Initial SSE Objective: ' + str(objective(p0)))\n",
    "\n",
    "# optimize parameters\n",
    "# bounds on variables\n",
    "bnds = ((2.0, 20.0),(0.005,0.02),(0.002,0.015))\n",
    "solution = minimize(objective,p0,method='SLSQP',bounds=bnds)\n",
    "p = solution.x\n",
    "\n",
    "# show final objective\n",
    "print('Final SSE Objective: ' + str(objective(p)))\n",
    "\n",
    "# optimized parameter values\n",
    "U = p[0]\n",
    "alpha1 = p[1]\n",
    "alpha2 = p[2]\n",
    "print('U: ' + str(U))\n",
    "print('alpha1: ' + str(alpha1))\n",
    "print('alpha2: ' + str(alpha2))\n",
    "\n",
    "# calculate model with updated parameters\n",
    "Ti  = simulate(p0)\n",
    "Tp  = simulate(p)\n",
    "\n",
    "# Plot results\n",
    "plt.figure(1)\n",
    "\n",
    "plt.subplot(3,1,1)\n",
    "plt.plot(t/60.0,Ti[:,0],'y:',label=r'$T_1$ initial')\n",
    "plt.plot(t/60.0,T1meas,'b-',label=r'$T_1$ measured')\n",
    "plt.plot(t/60.0,Tp[:,0],'r--',label=r'$T_1$ optimized')\n",
    "plt.ylabel('Temperature (degC)')\n",
    "plt.legend(loc='best')\n",
    "\n",
    "plt.subplot(3,1,2)\n",
    "plt.plot(t/60.0,Ti[:,1],'y:',label=r'$T_2$ initial')\n",
    "plt.plot(t/60.0,T2meas,'b-',label=r'$T_2$ measured')\n",
    "plt.plot(t/60.0,Tp[:,1],'r--',label=r'$T_2$ optimized')\n",
    "plt.ylabel('Temperature (degC)')\n",
    "plt.legend(loc='best')\n",
    "\n",
    "plt.subplot(3,1,3)\n",
    "plt.plot(t/60.0,Q1,'g-',label=r'$Q_1$')\n",
    "plt.plot(t/60.0,Q2,'k--',label=r'$Q_2$')\n",
    "plt.ylabel('Heater Output')\n",
    "plt.legend(loc='best')\n",
    "\n",
    "plt.xlabel('Time (min)')\n",
    "plt.show()"
   ]
  },
  {
   "cell_type": "code",
   "execution_count": 86,
   "metadata": {},
   "outputs": [
    {
     "data": {
      "text/plain": [
       "(599, 2)"
      ]
     },
     "execution_count": 86,
     "metadata": {},
     "output_type": "execute_result"
    }
   ],
   "source": [
    "np.zeros((len(t),2)).shape"
   ]
  },
  {
   "cell_type": "code",
   "execution_count": 52,
   "metadata": {},
   "outputs": [
    {
     "data": {
      "text/plain": [
       "(1001,)"
      ]
     },
     "execution_count": 52,
     "metadata": {},
     "output_type": "execute_result"
    }
   ],
   "source": [
    "T.shape"
   ]
  },
  {
   "cell_type": "code",
   "execution_count": 53,
   "metadata": {},
   "outputs": [
    {
     "data": {
      "text/plain": [
       "(599, 7)"
      ]
     },
     "execution_count": 53,
     "metadata": {},
     "output_type": "execute_result"
    }
   ],
   "source": [
    "data.shape"
   ]
  },
  {
   "cell_type": "code",
   "execution_count": 54,
   "metadata": {},
   "outputs": [
    {
     "data": {
      "text/plain": [
       "(599,)"
      ]
     },
     "execution_count": 54,
     "metadata": {},
     "output_type": "execute_result"
    }
   ],
   "source": [
    "t.shape"
   ]
  },
  {
   "cell_type": "code",
   "execution_count": 55,
   "metadata": {},
   "outputs": [
    {
     "data": {
      "text/plain": [
       "array([2.58809562, 0.00530681, 0.00288527])"
      ]
     },
     "execution_count": 55,
     "metadata": {},
     "output_type": "execute_result"
    }
   ],
   "source": [
    "p"
   ]
  },
  {
   "cell_type": "code",
   "execution_count": 61,
   "metadata": {},
   "outputs": [
    {
     "data": {
      "text/plain": [
       "     fun: 1.3675647741318953\n",
       "     jac: array([ 3.85315716e-03,  1.32133189e+00, -3.92953673e+00])\n",
       " message: 'Optimization terminated successfully.'\n",
       "    nfev: 98\n",
       "     nit: 15\n",
       "    njev: 15\n",
       "  status: 0\n",
       " success: True\n",
       "       x: array([2.58809562, 0.00530681, 0.00288527])"
      ]
     },
     "execution_count": 61,
     "metadata": {},
     "output_type": "execute_result"
    }
   ],
   "source": [
    "solution"
   ]
  },
  {
   "cell_type": "code",
   "execution_count": 74,
   "metadata": {},
   "outputs": [
    {
     "data": {
      "text/plain": [
       "0.015"
      ]
     },
     "execution_count": 74,
     "metadata": {},
     "output_type": "execute_result"
    }
   ],
   "source": [
    "T[3]"
   ]
  },
  {
   "cell_type": "code",
   "execution_count": 66,
   "metadata": {},
   "outputs": [
    {
     "data": {
      "text/plain": [
       "(599, 2)"
      ]
     },
     "execution_count": 66,
     "metadata": {},
     "output_type": "execute_result"
    }
   ],
   "source": [
    "Tp.shape"
   ]
  },
  {
   "cell_type": "code",
   "execution_count": 81,
   "metadata": {},
   "outputs": [
    {
     "data": {
      "text/plain": [
       "20.71"
      ]
     },
     "execution_count": 81,
     "metadata": {},
     "output_type": "execute_result"
    }
   ],
   "source": [
    "T2meas[67]"
   ]
  },
  {
   "cell_type": "code",
   "execution_count": 69,
   "metadata": {},
   "outputs": [
    {
     "data": {
      "text/plain": [
       "(599,)"
      ]
     },
     "execution_count": 69,
     "metadata": {},
     "output_type": "execute_result"
    }
   ],
   "source": [
    "T2meas.shape"
   ]
  },
  {
   "cell_type": "code",
   "execution_count": 79,
   "metadata": {},
   "outputs": [
    {
     "data": {
      "text/plain": [
       "[1.0012845993041992, 2.001270294189453]"
      ]
     },
     "execution_count": 79,
     "metadata": {},
     "output_type": "execute_result"
    }
   ],
   "source": [
    "[t[i],t[i+1]]"
   ]
  },
  {
   "cell_type": "code",
   "execution_count": 82,
   "metadata": {},
   "outputs": [
    {
     "name": "stdout",
     "output_type": "stream",
     "text": [
      "0\n",
      "1\n",
      "2\n",
      "3\n",
      "4\n",
      "5\n",
      "6\n",
      "7\n",
      "8\n",
      "9\n",
      "10\n",
      "11\n",
      "12\n",
      "13\n",
      "14\n",
      "15\n",
      "16\n",
      "17\n",
      "18\n",
      "19\n",
      "20\n",
      "21\n",
      "22\n",
      "23\n",
      "24\n",
      "25\n",
      "26\n",
      "27\n",
      "28\n",
      "29\n",
      "30\n",
      "31\n",
      "32\n",
      "33\n",
      "34\n",
      "35\n",
      "36\n",
      "37\n",
      "38\n",
      "39\n",
      "40\n",
      "41\n",
      "42\n",
      "43\n",
      "44\n",
      "45\n",
      "46\n",
      "47\n",
      "48\n",
      "49\n",
      "50\n",
      "51\n",
      "52\n",
      "53\n",
      "54\n",
      "55\n",
      "56\n",
      "57\n",
      "58\n",
      "59\n",
      "60\n",
      "61\n",
      "62\n",
      "63\n",
      "64\n",
      "65\n",
      "66\n",
      "67\n",
      "68\n",
      "69\n",
      "70\n",
      "71\n",
      "72\n",
      "73\n",
      "74\n",
      "75\n",
      "76\n",
      "77\n",
      "78\n",
      "79\n",
      "80\n",
      "81\n",
      "82\n",
      "83\n",
      "84\n",
      "85\n",
      "86\n",
      "87\n",
      "88\n",
      "89\n",
      "90\n",
      "91\n",
      "92\n",
      "93\n",
      "94\n",
      "95\n",
      "96\n",
      "97\n",
      "98\n",
      "99\n",
      "100\n",
      "101\n",
      "102\n",
      "103\n",
      "104\n",
      "105\n",
      "106\n",
      "107\n",
      "108\n",
      "109\n",
      "110\n",
      "111\n",
      "112\n",
      "113\n",
      "114\n",
      "115\n",
      "116\n",
      "117\n",
      "118\n",
      "119\n",
      "120\n",
      "121\n",
      "122\n",
      "123\n",
      "124\n",
      "125\n",
      "126\n",
      "127\n",
      "128\n",
      "129\n",
      "130\n",
      "131\n",
      "132\n",
      "133\n",
      "134\n",
      "135\n",
      "136\n",
      "137\n",
      "138\n",
      "139\n",
      "140\n",
      "141\n",
      "142\n",
      "143\n",
      "144\n",
      "145\n",
      "146\n",
      "147\n",
      "148\n",
      "149\n",
      "150\n",
      "151\n",
      "152\n",
      "153\n",
      "154\n",
      "155\n",
      "156\n",
      "157\n",
      "158\n",
      "159\n",
      "160\n",
      "161\n",
      "162\n",
      "163\n",
      "164\n",
      "165\n",
      "166\n",
      "167\n",
      "168\n",
      "169\n",
      "170\n",
      "171\n",
      "172\n",
      "173\n",
      "174\n",
      "175\n",
      "176\n",
      "177\n",
      "178\n",
      "179\n",
      "180\n",
      "181\n",
      "182\n",
      "183\n",
      "184\n",
      "185\n",
      "186\n",
      "187\n",
      "188\n",
      "189\n",
      "190\n",
      "191\n",
      "192\n",
      "193\n",
      "194\n",
      "195\n",
      "196\n",
      "197\n",
      "198\n",
      "199\n",
      "200\n",
      "201\n",
      "202\n",
      "203\n",
      "204\n",
      "205\n",
      "206\n",
      "207\n",
      "208\n",
      "209\n",
      "210\n",
      "211\n",
      "212\n",
      "213\n",
      "214\n",
      "215\n",
      "216\n",
      "217\n",
      "218\n",
      "219\n",
      "220\n",
      "221\n",
      "222\n",
      "223\n",
      "224\n",
      "225\n",
      "226\n",
      "227\n",
      "228\n",
      "229\n",
      "230\n",
      "231\n",
      "232\n",
      "233\n",
      "234\n",
      "235\n",
      "236\n",
      "237\n",
      "238\n",
      "239\n",
      "240\n",
      "241\n",
      "242\n",
      "243\n",
      "244\n",
      "245\n",
      "246\n",
      "247\n",
      "248\n",
      "249\n",
      "250\n",
      "251\n",
      "252\n",
      "253\n",
      "254\n",
      "255\n",
      "256\n",
      "257\n",
      "258\n",
      "259\n",
      "260\n",
      "261\n",
      "262\n",
      "263\n",
      "264\n",
      "265\n",
      "266\n",
      "267\n",
      "268\n",
      "269\n",
      "270\n",
      "271\n",
      "272\n",
      "273\n",
      "274\n",
      "275\n",
      "276\n",
      "277\n",
      "278\n",
      "279\n",
      "280\n",
      "281\n",
      "282\n",
      "283\n",
      "284\n",
      "285\n",
      "286\n",
      "287\n",
      "288\n",
      "289\n",
      "290\n",
      "291\n",
      "292\n",
      "293\n",
      "294\n",
      "295\n",
      "296\n",
      "297\n",
      "298\n",
      "299\n",
      "300\n",
      "301\n",
      "302\n",
      "303\n",
      "304\n",
      "305\n",
      "306\n",
      "307\n",
      "308\n",
      "309\n",
      "310\n",
      "311\n",
      "312\n",
      "313\n",
      "314\n",
      "315\n",
      "316\n",
      "317\n",
      "318\n",
      "319\n",
      "320\n",
      "321\n",
      "322\n",
      "323\n",
      "324\n",
      "325\n",
      "326\n",
      "327\n",
      "328\n",
      "329\n",
      "330\n",
      "331\n",
      "332\n",
      "333\n",
      "334\n",
      "335\n",
      "336\n",
      "337\n",
      "338\n",
      "339\n",
      "340\n",
      "341\n",
      "342\n",
      "343\n",
      "344\n",
      "345\n",
      "346\n",
      "347\n",
      "348\n",
      "349\n",
      "350\n",
      "351\n",
      "352\n",
      "353\n",
      "354\n",
      "355\n",
      "356\n",
      "357\n",
      "358\n",
      "359\n",
      "360\n",
      "361\n",
      "362\n",
      "363\n",
      "364\n",
      "365\n",
      "366\n",
      "367\n",
      "368\n",
      "369\n",
      "370\n",
      "371\n",
      "372\n",
      "373\n",
      "374\n",
      "375\n",
      "376\n",
      "377\n",
      "378\n",
      "379\n",
      "380\n",
      "381\n",
      "382\n",
      "383\n",
      "384\n",
      "385\n",
      "386\n",
      "387\n",
      "388\n",
      "389\n",
      "390\n",
      "391\n",
      "392\n",
      "393\n",
      "394\n",
      "395\n",
      "396\n",
      "397\n",
      "398\n",
      "399\n",
      "400\n",
      "401\n",
      "402\n",
      "403\n",
      "404\n",
      "405\n",
      "406\n",
      "407\n",
      "408\n",
      "409\n",
      "410\n",
      "411\n",
      "412\n",
      "413\n",
      "414\n",
      "415\n",
      "416\n",
      "417\n",
      "418\n",
      "419\n",
      "420\n",
      "421\n",
      "422\n",
      "423\n",
      "424\n",
      "425\n",
      "426\n",
      "427\n",
      "428\n",
      "429\n",
      "430\n",
      "431\n",
      "432\n",
      "433\n",
      "434\n",
      "435\n",
      "436\n",
      "437\n",
      "438\n",
      "439\n",
      "440\n",
      "441\n",
      "442\n",
      "443\n",
      "444\n",
      "445\n",
      "446\n",
      "447\n",
      "448\n",
      "449\n",
      "450\n",
      "451\n",
      "452\n",
      "453\n",
      "454\n",
      "455\n",
      "456\n",
      "457\n",
      "458\n",
      "459\n",
      "460\n",
      "461\n",
      "462\n",
      "463\n",
      "464\n",
      "465\n",
      "466\n",
      "467\n",
      "468\n",
      "469\n",
      "470\n",
      "471\n",
      "472\n",
      "473\n",
      "474\n",
      "475\n",
      "476\n",
      "477\n",
      "478\n",
      "479\n",
      "480\n",
      "481\n",
      "482\n",
      "483\n",
      "484\n",
      "485\n",
      "486\n",
      "487\n",
      "488\n",
      "489\n",
      "490\n",
      "491\n",
      "492\n",
      "493\n",
      "494\n",
      "495\n",
      "496\n",
      "497\n",
      "498\n",
      "499\n",
      "500\n",
      "501\n",
      "502\n",
      "503\n",
      "504\n",
      "505\n",
      "506\n",
      "507\n",
      "508\n",
      "509\n",
      "510\n",
      "511\n",
      "512\n",
      "513\n",
      "514\n",
      "515\n",
      "516\n",
      "517\n",
      "518\n",
      "519\n",
      "520\n",
      "521\n",
      "522\n",
      "523\n",
      "524\n",
      "525\n",
      "526\n",
      "527\n",
      "528\n",
      "529\n",
      "530\n",
      "531\n",
      "532\n",
      "533\n",
      "534\n",
      "535\n",
      "536\n",
      "537\n",
      "538\n",
      "539\n",
      "540\n",
      "541\n",
      "542\n",
      "543\n",
      "544\n",
      "545\n",
      "546\n",
      "547\n",
      "548\n",
      "549\n",
      "550\n",
      "551\n",
      "552\n",
      "553\n",
      "554\n",
      "555\n",
      "556\n",
      "557\n",
      "558\n",
      "559\n",
      "560\n",
      "561\n",
      "562\n",
      "563\n",
      "564\n",
      "565\n",
      "566\n",
      "567\n",
      "568\n",
      "569\n",
      "570\n",
      "571\n",
      "572\n",
      "573\n",
      "574\n",
      "575\n",
      "576\n",
      "577\n",
      "578\n",
      "579\n",
      "580\n",
      "581\n",
      "582\n",
      "583\n",
      "584\n",
      "585\n",
      "586\n",
      "587\n",
      "588\n",
      "589\n",
      "590\n",
      "591\n",
      "592\n",
      "593\n",
      "594\n",
      "595\n",
      "596\n",
      "597\n"
     ]
    }
   ],
   "source": [
    " for i in range(len(t)-1):\n",
    "        print(i)"
   ]
  },
  {
   "cell_type": "code",
   "execution_count": 83,
   "metadata": {},
   "outputs": [
    {
     "data": {
      "text/plain": [
       "0.0"
      ]
     },
     "execution_count": 83,
     "metadata": {},
     "output_type": "execute_result"
    }
   ],
   "source": [
    "T[0]"
   ]
  },
  {
   "cell_type": "code",
   "execution_count": 84,
   "metadata": {},
   "outputs": [
    {
     "data": {
      "text/plain": [
       "array([0.   , 0.005, 0.01 , ..., 4.99 , 4.995, 5.   ])"
      ]
     },
     "execution_count": 84,
     "metadata": {},
     "output_type": "execute_result"
    }
   ],
   "source": [
    "T"
   ]
  },
  {
   "cell_type": "code",
   "execution_count": 85,
   "metadata": {},
   "outputs": [
    {
     "data": {
      "text/plain": [
       "(1001,)"
      ]
     },
     "execution_count": 85,
     "metadata": {},
     "output_type": "execute_result"
    }
   ],
   "source": [
    "T.shape"
   ]
  },
  {
   "cell_type": "code",
   "execution_count": 87,
   "metadata": {},
   "outputs": [
    {
     "data": {
      "text/plain": [
       "0.0"
      ]
     },
     "execution_count": 87,
     "metadata": {},
     "output_type": "execute_result"
    }
   ],
   "source": [
    "data[:,1][0]"
   ]
  },
  {
   "cell_type": "code",
   "execution_count": 88,
   "metadata": {},
   "outputs": [
    {
     "data": {
      "text/plain": [
       "array([0.   , 0.005, 0.01 , ..., 4.99 , 4.995, 5.   ])"
      ]
     },
     "execution_count": 88,
     "metadata": {},
     "output_type": "execute_result"
    }
   ],
   "source": [
    "T"
   ]
  },
  {
   "cell_type": "code",
   "execution_count": 89,
   "metadata": {},
   "outputs": [],
   "source": [
    "T1meas = data[:,3].T\n",
    "T2meas = data[:,4].T"
   ]
  },
  {
   "cell_type": "code",
   "execution_count": 90,
   "metadata": {},
   "outputs": [],
   "source": [
    "T = np.zeros((len(t),2))\n",
    "T[0,0] = T1meas[0]\n",
    "T[0,1] = T2meas[0]    \n",
    "#  T0 = T[0]"
   ]
  },
  {
   "cell_type": "code",
   "execution_count": 91,
   "metadata": {},
   "outputs": [
    {
     "data": {
      "text/plain": [
       "array([[20.83, 19.93],\n",
       "       [ 0.  ,  0.  ],\n",
       "       [ 0.  ,  0.  ],\n",
       "       ...,\n",
       "       [ 0.  ,  0.  ],\n",
       "       [ 0.  ,  0.  ],\n",
       "       [ 0.  ,  0.  ]])"
      ]
     },
     "execution_count": 91,
     "metadata": {},
     "output_type": "execute_result"
    }
   ],
   "source": [
    "T"
   ]
  },
  {
   "cell_type": "code",
   "execution_count": 93,
   "metadata": {},
   "outputs": [
    {
     "data": {
      "text/plain": [
       "(2,)"
      ]
     },
     "execution_count": 93,
     "metadata": {},
     "output_type": "execute_result"
    }
   ],
   "source": [
    "T[0].shape"
   ]
  },
  {
   "cell_type": "code",
   "execution_count": 95,
   "metadata": {},
   "outputs": [
    {
     "data": {
      "text/plain": [
       "array([20.83, 19.93])"
      ]
     },
     "execution_count": 95,
     "metadata": {},
     "output_type": "execute_result"
    }
   ],
   "source": [
    "T[0]"
   ]
  },
  {
   "cell_type": "code",
   "execution_count": null,
   "metadata": {},
   "outputs": [],
   "source": []
  }
 ],
 "metadata": {
  "kernelspec": {
   "display_name": "Python 3",
   "language": "python",
   "name": "python3"
  },
  "language_info": {
   "codemirror_mode": {
    "name": "ipython",
    "version": 3
   },
   "file_extension": ".py",
   "mimetype": "text/x-python",
   "name": "python",
   "nbconvert_exporter": "python",
   "pygments_lexer": "ipython3",
   "version": "3.7.7"
  }
 },
 "nbformat": 4,
 "nbformat_minor": 4
}
