{
 "cells": [
  {
   "cell_type": "code",
   "execution_count": 22,
   "metadata": {},
   "outputs": [],
   "source": [
    "from collections import Counter\n",
    "from pprint import pprint\n",
    "\n",
    "import pandas as pd\n",
    "import numpy as np\n",
    "import matplotlib.pyplot as plt \n",
    "from mpl_toolkits.axes_grid1.inset_locator import inset_axes\n",
    "\n",
    "# from epimodels import *\n",
    "from epimodels.continuous.models import SEIR \n",
    "\n",
    "# import watermark\n",
    "\n",
    "# %load_ext watermark\n",
    "%matplotlib inline"
   ]
  },
  {
   "cell_type": "code",
   "execution_count": 5,
   "metadata": {},
   "outputs": [
    {
     "ename": "AttributeError",
     "evalue": "'SEIR' object has no attribute 'add_spontaneous'",
     "output_type": "error",
     "traceback": [
      "\u001b[1;31m---------------------------------------------------------------------------\u001b[0m",
      "\u001b[1;31mAttributeError\u001b[0m                            Traceback (most recent call last)",
      "\u001b[1;32m<ipython-input-5-8484a2591829>\u001b[0m in \u001b[0;36m<module>\u001b[1;34m\u001b[0m\n\u001b[0;32m      6\u001b[0m \u001b[1;33m\u001b[0m\u001b[0m\n\u001b[0;32m      7\u001b[0m \u001b[0mSEIIR\u001b[0m \u001b[1;33m=\u001b[0m \u001b[0mSEIR\u001b[0m\u001b[1;33m(\u001b[0m\u001b[1;33m)\u001b[0m\u001b[1;33m\u001b[0m\u001b[1;33m\u001b[0m\u001b[0m\n\u001b[1;32m----> 8\u001b[1;33m \u001b[0mSEIIR\u001b[0m\u001b[1;33m.\u001b[0m\u001b[0madd_spontaneous\u001b[0m\u001b[1;33m(\u001b[0m\u001b[1;34m'S'\u001b[0m\u001b[1;33m,\u001b[0m \u001b[1;34m'E'\u001b[0m\u001b[1;33m,\u001b[0m \u001b[1;34m'Ia'\u001b[0m\u001b[1;33m,\u001b[0m \u001b[0mrbeta\u001b[0m\u001b[1;33m*\u001b[0m\u001b[0mbeta\u001b[0m\u001b[1;33m)\u001b[0m\u001b[1;33m\u001b[0m\u001b[1;33m\u001b[0m\u001b[0m\n\u001b[0m\u001b[0;32m      9\u001b[0m \u001b[0mSEIIR\u001b[0m\u001b[1;33m.\u001b[0m\u001b[0madd_spontaneous\u001b[0m\u001b[1;33m(\u001b[0m\u001b[1;34m'S'\u001b[0m\u001b[1;33m,\u001b[0m \u001b[1;34m'E'\u001b[0m\u001b[1;33m,\u001b[0m \u001b[1;34m'Is'\u001b[0m\u001b[1;33m,\u001b[0m \u001b[0mbeta\u001b[0m\u001b[1;33m)\u001b[0m\u001b[1;33m\u001b[0m\u001b[1;33m\u001b[0m\u001b[0m\n\u001b[0;32m     10\u001b[0m \u001b[0mSEIIR\u001b[0m\u001b[1;33m.\u001b[0m\u001b[0madd_spontaneous\u001b[0m\u001b[1;33m(\u001b[0m\u001b[1;34m'E'\u001b[0m\u001b[1;33m,\u001b[0m \u001b[1;34m'Ia'\u001b[0m\u001b[1;33m,\u001b[0m \u001b[0mepsilon\u001b[0m\u001b[1;33m*\u001b[0m\u001b[0mpa\u001b[0m\u001b[1;33m)\u001b[0m\u001b[1;33m\u001b[0m\u001b[1;33m\u001b[0m\u001b[0m\n",
      "\u001b[1;31mAttributeError\u001b[0m: 'SEIR' object has no attribute 'add_spontaneous'"
     ]
    }
   ],
   "source": [
    "rbeta = 0.75\n",
    "pa = 0.4\n",
    "R0 = 2.0\n",
    "mu = 0.1\n",
    "beta = R0*mu/(pa*rbeta+(1-pa))\n",
    "\n",
    "SEIIR = SEIR()\n",
    "SEIIR.add_spontaneous('S', 'E', 'Ia', rbeta*beta)\n",
    "SEIIR.add_spontaneous('S', 'E', 'Is', beta)\n",
    "SEIIR.add_spontaneous('E', 'Ia', epsilon*pa)\n",
    "SEIIR.add_spontaneous('E', 'Is', epsilon*(1-pa))\n",
    "SEIIR.add_spontaneous('Ia', 'R', mu)\n",
    "SEIIR.add_spontaneous('Is', 'R', mu)"
   ]
  },
  {
   "cell_type": "code",
   "execution_count": 5,
   "metadata": {},
   "outputs": [],
   "source": [
    "import epimodels"
   ]
  },
  {
   "cell_type": "code",
   "execution_count": 16,
   "metadata": {},
   "outputs": [],
   "source": [
    "from epimodels import*"
   ]
  },
  {
   "cell_type": "code",
   "execution_count": 3,
   "metadata": {},
   "outputs": [],
   "source": [
    "from epimodels.continuous.models import SEIR \n",
    "model = SEIR()"
   ]
  },
  {
   "cell_type": "code",
   "execution_count": 2,
   "metadata": {},
   "outputs": [
    {
     "ename": "ModuleNotFoundError",
     "evalue": "No module named 'EpiModel'",
     "output_type": "error",
     "traceback": [
      "\u001b[1;31m---------------------------------------------------------------------------\u001b[0m",
      "\u001b[1;31mModuleNotFoundError\u001b[0m                       Traceback (most recent call last)",
      "\u001b[1;32m<ipython-input-2-3c4ae4a2588c>\u001b[0m in \u001b[0;36m<module>\u001b[1;34m\u001b[0m\n\u001b[1;32m----> 1\u001b[1;33m \u001b[1;32mfrom\u001b[0m \u001b[0mEpiModel\u001b[0m \u001b[1;32mimport\u001b[0m \u001b[1;33m*\u001b[0m\u001b[1;33m\u001b[0m\u001b[1;33m\u001b[0m\u001b[0m\n\u001b[0m",
      "\u001b[1;31mModuleNotFoundError\u001b[0m: No module named 'EpiModel'"
     ]
    }
   ],
   "source": [
    "from EpiModel import *"
   ]
  },
  {
   "cell_type": "code",
   "execution_count": 8,
   "metadata": {},
   "outputs": [],
   "source": [
    "import networkx as nx\n",
    "import ndlib.models.ModelConfig as mc\n",
    "import ndlib.models.epidemics as ep\n",
    "\n",
    "# Network topology\n",
    "g = nx.erdos_renyi_graph(1000, 0.1)\n",
    "\n",
    "# Model selection\n",
    "model = ep.SEIRModel(g)\n",
    "\n",
    "# Model Configuration\n",
    "cfg = mc.Configuration()\n",
    "cfg.add_model_parameter('beta', 0.01)\n",
    "cfg.add_model_parameter('gamma', 0.005)\n",
    "cfg.add_model_parameter('alpha', 0.05)\n",
    "cfg.add_model_parameter(\"fraction_infected\", 0.05)\n",
    "model.set_initial_status(cfg)\n",
    "\n",
    "# Simulation execution\n",
    "iterations = model.iteration_bunch(200)"
   ]
  },
  {
   "cell_type": "code",
   "execution_count": null,
   "metadata": {},
   "outputs": [],
   "source": []
  }
 ],
 "metadata": {
  "kernelspec": {
   "display_name": "Python 3",
   "language": "python",
   "name": "python3"
  },
  "language_info": {
   "codemirror_mode": {
    "name": "ipython",
    "version": 3
   },
   "file_extension": ".py",
   "mimetype": "text/x-python",
   "name": "python",
   "nbconvert_exporter": "python",
   "pygments_lexer": "ipython3",
   "version": "3.7.6"
  }
 },
 "nbformat": 4,
 "nbformat_minor": 4
}
